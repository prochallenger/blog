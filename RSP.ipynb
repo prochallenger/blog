{
 "cells": [
  {
   "cell_type": "markdown",
   "id": "e0081f01",
   "metadata": {},
   "source": [
    "EXPLORATION_01"
   ]
  },
  {
   "cell_type": "code",
   "execution_count": 26,
   "id": "0e3a273c",
   "metadata": {},
   "outputs": [
    {
     "name": "stdout",
     "output_type": "stream",
     "text": [
      "PIL 라이브러리 import 완료!\n"
     ]
    }
   ],
   "source": [
    "from PIL import Image\n",
    "import glob\n",
    "\n",
    "print(\"PIL 라이브러리 import 완료!\")"
   ]
  },
  {
   "cell_type": "code",
   "execution_count": 27,
   "id": "c1f3d77a",
   "metadata": {},
   "outputs": [],
   "source": [
    "import tensorflow as tf\n",
    "from tensorflow import keras\n",
    "\n",
    "import numpy as np\n",
    "import matplotlib.pyplot as plt\n",
    "import os"
   ]
  },
  {
   "cell_type": "code",
   "execution_count": 28,
   "id": "6522d726",
   "metadata": {},
   "outputs": [
    {
     "name": "stdout",
     "output_type": "stream",
     "text": [
      "1046  images to be resized.\n",
      "1046  images resized.\n",
      "가위 트레인 이미지 resize 완료!\n",
      "1046  images to be resized.\n",
      "1046  images resized.\n",
      "바위 트레인 이미지 resize 완료!\n",
      "1046  images to be resized.\n",
      "1046  images resized.\n",
      "보 트레인 이미지 resize 완료!\n",
      "360  images to be resized.\n",
      "360  images resized.\n",
      "가위 테스트 이미지 resize 완료!\n",
      "360  images to be resized.\n",
      "360  images resized.\n",
      "바위 테스트 이미지 resize 완료!\n",
      "365  images to be resized.\n",
      "365  images resized.\n",
      "보 테스트 이미지 resize 완료!\n"
     ]
    }
   ],
   "source": [
    "def resize_images(img_path):\n",
    "\timages=glob.glob(img_path + \"/*.jpg\")   \n",
    "\tprint(len(images), \" images to be resized.\")\n",
    "\n",
    "    # 파일마다 모두 28x28 사이즈로 바꾸어 저장합니다.\n",
    "\ttarget_size=(28,28)\n",
    "\tfor img in images:\n",
    "\t\told_img=Image.open(img)\n",
    "\t\tnew_img=old_img.resize(target_size,Image.ANTIALIAS)\n",
    "\t\tnew_img.save(img, \"JPEG\")\n",
    "    \n",
    "\tprint(len(images), \" images resized.\")\n",
    "\t\n",
    "# 가위 이미지가 저장된 디렉토리 아래의 모든 jpg 파일을 읽어들여서\n",
    "image_dir_path = os.getenv(\"HOME\") + \"/aiffel/rock_scissor_paper/train/scissors\"\n",
    "resize_images(image_dir_path)\n",
    "\n",
    "print(\"가위 트레인 이미지 resize 완료!\")\n",
    "\n",
    "# 바위 이미지가 저장된 디렉토리 아래의 모든 jpg 파일을 읽어들여서\n",
    "image_dir_path = os.getenv(\"HOME\") + \"/aiffel/rock_scissor_paper/train/rock\"\n",
    "resize_images(image_dir_path)\n",
    "\n",
    "print(\"바위 트레인 이미지 resize 완료!\")\n",
    "\n",
    "# 보 이미지가 저장된 디렉토리 아래의 모든 jpg 파일을 읽어들여서\n",
    "image_dir_path = os.getenv(\"HOME\") + \"/aiffel/rock_scissor_paper/train/paper\"\n",
    "resize_images(image_dir_path)\n",
    "\n",
    "print(\"보 트레인 이미지 resize 완료!\")\n",
    "\n",
    "# 가위 이미지가 저장된 디렉토리 아래의 모든 jpg 파일을 읽어들여서\n",
    "image_dir_path = os.getenv(\"HOME\") + \"/aiffel/rock_scissor_paper/test/scissors\"\n",
    "resize_images(image_dir_path)\n",
    "\n",
    "print(\"가위 테스트 이미지 resize 완료!\")\n",
    "\n",
    "# 바위 이미지가 저장된 디렉토리 아래의 모든 jpg 파일을 읽어들여서\n",
    "image_dir_path = os.getenv(\"HOME\") + \"/aiffel/rock_scissor_paper/test/rock\"\n",
    "resize_images(image_dir_path)\n",
    "\n",
    "print(\"바위 테스트 이미지 resize 완료!\")\n",
    "\n",
    "# 보 이미지가 저장된 디렉토리 아래의 모든 jpg 파일을 읽어들여서\n",
    "image_dir_path = os.getenv(\"HOME\") + \"/aiffel/rock_scissor_paper/test/paper\"\n",
    "resize_images(image_dir_path)\n",
    "\n",
    "print(\"보 테스트 이미지 resize 완료!\")"
   ]
  },
  {
   "cell_type": "code",
   "execution_count": 157,
   "id": "2d2a29c9",
   "metadata": {},
   "outputs": [
    {
     "name": "stdout",
     "output_type": "stream",
     "text": [
      "학습데이터(x_train)의 이미지 개수는 3138 입니다.\n",
      "x_train shape: (3138, 28, 28, 3)\n",
      "y_train shape: (3138,)\n"
     ]
    }
   ],
   "source": [
    "import numpy as np\n",
    "\n",
    "def load_data(img_path, number_of_data=3138):  # 가위바위보 이미지 개수 총합에 주의하세요.\n",
    "    # 가위 : 0, 바위 : 1, 보 : 2\n",
    "    img_size=28\n",
    "    color=3\n",
    "    #이미지 데이터와 라벨(가위 : 0, 바위 : 1, 보 : 2) 데이터를 담을 행렬(matrix) 영역을 생성합니다.\n",
    "    imgs=np.zeros(number_of_data*img_size*img_size*color,dtype=np.int32).reshape(number_of_data,img_size,img_size,color)\n",
    "    labels=np.zeros(number_of_data,dtype=np.int32)\n",
    "\n",
    "    idx=0\n",
    "    for file in glob.iglob(img_path+'/scissors/*.jpg'):\n",
    "        img = np.array(Image.open(file),dtype=np.int32)\n",
    "        imgs[idx,:,:,:]=img    # 데이터 영역에 이미지 행렬을 복사\n",
    "        labels[idx]=0   # 가위 : 0\n",
    "        idx=idx+1\n",
    "\n",
    "    for file in glob.iglob(img_path+'/rock/*.jpg'):\n",
    "        img = np.array(Image.open(file),dtype=np.int32)\n",
    "        imgs[idx,:,:,:]=img    # 데이터 영역에 이미지 행렬을 복사\n",
    "        labels[idx]=1   # 바위 : 1\n",
    "        idx=idx+1  \n",
    "    \n",
    "    for file in glob.iglob(img_path+'/paper/*.jpg'):\n",
    "        img = np.array(Image.open(file),dtype=np.int32)\n",
    "        imgs[idx,:,:,:]=img    # 데이터 영역에 이미지 행렬을 복사\n",
    "        labels[idx]=2   # 보 : 2\n",
    "        idx=idx+1\n",
    "        \n",
    "    print(\"학습데이터(x_train)의 이미지 개수는\", idx,\"입니다.\")\n",
    "    return imgs, labels\n",
    "\n",
    "image_dir_path = os.getenv(\"HOME\") + \"/aiffel/rock_scissor_paper/train\"\n",
    "(x_train, y_train)=load_data(image_dir_path)\n",
    "x_train = x_train/255.0   # 입력은 0~1 사이의 값으로 정규화\n",
    "\n",
    "print(\"x_train shape: {}\".format(x_train.shape))\n",
    "print(\"y_train shape: {}\".format(y_train.shape))"
   ]
  },
  {
   "cell_type": "code",
   "execution_count": 190,
   "id": "f791084a",
   "metadata": {},
   "outputs": [
    {
     "name": "stdout",
     "output_type": "stream",
     "text": [
      "학습데이터(x_test)의 이미지 개수는 750 입니다.\n",
      "x_test shape: (750, 28, 28, 3)\n",
      "y_test shape: (750,)\n"
     ]
    }
   ],
   "source": [
    "import numpy as np\n",
    "\n",
    "def load_data(img_path, number_of_data=750):  # 가위바위보 이미지 개수 총합에 주의하세요.\n",
    "    # 가위 : 0, 바위 : 1, 보 : 2\n",
    "    img_size=28\n",
    "    color=3\n",
    "    #이미지 데이터와 라벨(가위 : 0, 바위 : 1, 보 : 2) 데이터를 담을 행렬(matrix) 영역을 생성합니다.\n",
    "    imgs=np.zeros(number_of_data*img_size*img_size*color,dtype=np.int32).reshape(number_of_data,img_size,img_size,color)\n",
    "    labels=np.zeros(number_of_data,dtype=np.int32)\n",
    "\n",
    "    idx=0\n",
    "    for file in glob.iglob(img_path+'/scissors/*.jpg'):\n",
    "        img = np.array(Image.open(file),dtype=np.int32)\n",
    "        imgs[idx,:,:,:]=img    # 데이터 영역에 이미지 행렬을 복사\n",
    "        labels[idx]=0   # 가위 : 0\n",
    "        idx=idx+1\n",
    "\n",
    "    for file in glob.iglob(img_path+'/rock/*.jpg'):\n",
    "        img = np.array(Image.open(file),dtype=np.int32)\n",
    "        imgs[idx,:,:,:]=img    # 데이터 영역에 이미지 행렬을 복사\n",
    "        labels[idx]=1   # 바위 : 1\n",
    "        idx=idx+1  \n",
    "    \n",
    "    for file in glob.iglob(img_path+'/paper/*.jpg'):\n",
    "        img = np.array(Image.open(file),dtype=np.int32)\n",
    "        imgs[idx,:,:,:]=img    # 데이터 영역에 이미지 행렬을 복사\n",
    "        labels[idx]=2   # 보 : 2\n",
    "        idx=idx+1\n",
    "        \n",
    "    print(\"학습데이터(x_test)의 이미지 개수는\", idx,\"입니다.\")\n",
    "    return imgs, labels\n",
    "\n",
    "image_dir_path = os.getenv(\"HOME\") + \"/aiffel/rock_scissor_paper/test\"\n",
    "(x_test, y_test)=load_data(image_dir_path)\n",
    "x_test = x_test/255.0   # 입력은 0~1 사이의 값으로 정규화\n",
    "\n",
    "print(\"x_test shape: {}\".format(x_test.shape))\n",
    "print(\"y_test shape: {}\".format(y_test.shape))"
   ]
  },
  {
   "cell_type": "markdown",
   "id": "62abef4a",
   "metadata": {},
   "source": [
    "딥러닝 네트워크 설계하기\n",
    "자 이제 데이터의 준비가 끝났습니다. 이제 여러분들이 가위바위보를 인식하는 딥러닝 네트워크를 설계해 볼까요?"
   ]
  },
  {
   "cell_type": "code",
   "execution_count": 194,
   "id": "3f1285f4",
   "metadata": {},
   "outputs": [
    {
     "name": "stdout",
     "output_type": "stream",
     "text": [
      "Model: \"sequential_152\"\n",
      "_________________________________________________________________\n",
      "Layer (type)                 Output Shape              Param #   \n",
      "=================================================================\n",
      "conv2d_304 (Conv2D)          (None, 26, 26, 24)        672       \n",
      "_________________________________________________________________\n",
      "max_pooling2d_304 (MaxPoolin (None, 13, 13, 24)        0         \n",
      "_________________________________________________________________\n",
      "conv2d_305 (Conv2D)          (None, 11, 11, 22)        4774      \n",
      "_________________________________________________________________\n",
      "max_pooling2d_305 (MaxPoolin (None, 5, 5, 22)          0         \n",
      "_________________________________________________________________\n",
      "flatten_152 (Flatten)        (None, 550)               0         \n",
      "_________________________________________________________________\n",
      "dense_304 (Dense)            (None, 20)                11020     \n",
      "_________________________________________________________________\n",
      "dense_305 (Dense)            (None, 10)                210       \n",
      "=================================================================\n",
      "Total params: 16,676\n",
      "Trainable params: 16,676\n",
      "Non-trainable params: 0\n",
      "_________________________________________________________________\n",
      "Epoch 1/9\n",
      "99/99 [==============================] - 1s 3ms/step - loss: 1.1924 - accuracy: 0.3547\n",
      "Epoch 2/9\n",
      "99/99 [==============================] - 0s 3ms/step - loss: 1.0742 - accuracy: 0.4149\n",
      "Epoch 3/9\n",
      "99/99 [==============================] - 0s 3ms/step - loss: 1.0156 - accuracy: 0.4853\n",
      "Epoch 4/9\n",
      "99/99 [==============================] - 0s 3ms/step - loss: 0.9098 - accuracy: 0.5886\n",
      "Epoch 5/9\n",
      "99/99 [==============================] - 0s 3ms/step - loss: 0.8032 - accuracy: 0.6667\n",
      "Epoch 6/9\n",
      "99/99 [==============================] - 0s 3ms/step - loss: 0.6943 - accuracy: 0.7339\n",
      "Epoch 7/9\n",
      "99/99 [==============================] - 0s 3ms/step - loss: 0.6177 - accuracy: 0.7766\n",
      "Epoch 8/9\n",
      "99/99 [==============================] - 0s 3ms/step - loss: 0.5405 - accuracy: 0.8075\n",
      "Epoch 9/9\n",
      "99/99 [==============================] - 0s 3ms/step - loss: 0.4894 - accuracy: 0.8311\n",
      "24/24 - 0s - loss: 0.9778 - accuracy: 0.6067\n",
      "test_loss: 0.9777756333351135 \n",
      "test_accuracy: 0.6066666841506958\n"
     ]
    }
   ],
   "source": [
    "import tensorflow as tf\n",
    "from tensorflow import keras\n",
    "import numpy as np\n",
    "\n",
    "# 바꿔 볼 수 있는 하이퍼파라미터들\n",
    "n_channel_1=24\n",
    "n_channel_2=22\n",
    "n_dense=20\n",
    "n_train_epoch=9\n",
    "\n",
    "model=keras.models.Sequential()\n",
    "model.add(keras.layers.Conv2D(n_channel_1, (3,3), activation='relu', input_shape=(28,28,3)))\n",
    "model.add(keras.layers.MaxPool2D(2,2))\n",
    "model.add(keras.layers.Conv2D(n_channel_2, (3,3), activation='relu'))\n",
    "model.add(keras.layers.MaxPooling2D((2,2)))\n",
    "model.add(keras.layers.Flatten())\n",
    "model.add(keras.layers.Dense(n_dense, activation='relu'))\n",
    "model.add(keras.layers.Dense(10, activation='softmax'))\n",
    "\n",
    "model.summary()\n",
    "model.compile(optimizer='adam',\n",
    "             loss='sparse_categorical_crossentropy',\n",
    "             metrics=['accuracy'])\n",
    "\n",
    "# 모델 훈련\n",
    "model.fit(x_train, y_train, epochs=n_train_epoch)\n",
    "\n",
    "# 모델 시험\n",
    "test_loss, test_accuracy = model.evaluate(x_test, y_test, verbose=2)\n",
    "print(\"test_loss: {} \".format(test_loss))\n",
    "print(\"test_accuracy: {}\".format(test_accuracy))\n"
   ]
  },
  {
   "cell_type": "markdown",
   "id": "d29c9144",
   "metadata": {},
   "source": [
    "## 회고\n",
    "코드는 LMS의 것을 그대로 가져다가 몇 가지 값만 수정해서 사용했다.<br>\n",
    "이 과정에서 무슨 코드가 어떤 역할을 하는지 알게 되었다.<br>\n",
    "처음에 변수 이름이 잘못되어 오류가 났는데 동료의 도움으로 수정하였다.<br><br>\n",
    "\n",
    "분류기의 정확도에 있어서 가장 영향을 많이 미친 부분은 아래와 같았다.<br>\n",
    "\n",
    "1. 이미지의 배경 및 정확한 손동작<br>\n",
    "이미지의 배경이 깔끔하지 못하거나 정면이 아닌 측면 손사진들은 정확도가 떨어졌다.<br>\n",
    "해당 과제를 먼저 제출한 동료의 train image를 가져와 넣었고\n",
    "test image는 새로 사진을 찍어서 정확도를 올렸다.<br><br>\n",
    "\n",
    "2. 하이퍼 파라미터의 조절<br>\n",
    "1번과 3번을 조절할 때마다 하이퍼 파라미터 역시 최적의 값을 찾기 위해서 여러번 바꿔줘야 했다.<br><br>\n",
    "\n",
    "3. train image와 test image의 비율<br>\n",
    "1번과 2번을 수정하는 것만으로는 40%이상의 정확도를 얻기 어려웠다.<br>\n",
    "가장 극적으로 정확도가 개선되었던 것은 트레인 이미지와 테스트 이미지의 비율을 3:1 에서 6:1에 가깝게 줄였을 때이다.<br>\n",
    "테스트 이미지의 비율이 많아지면 정확도가 떨어진다는 것을 배웠다.<br><br>\n",
    "\n",
    "다만 1, 2, 3번의 값이 동일함에도 불구하고 분류기를 실행 시킬 때마다 정확도가 달라졌던 일은 아직 이해가 가지 않는다. \n",
    "이 부분은 차후 학습을 계속하면서 알아내야 할 것 같다.\n"
   ]
  },
  {
   "cell_type": "code",
   "execution_count": null,
   "id": "691b33a4",
   "metadata": {},
   "outputs": [],
   "source": []
  }
 ],
 "metadata": {
  "kernelspec": {
   "display_name": "Python 3 (ipykernel)",
   "language": "python",
   "name": "python3"
  },
  "language_info": {
   "codemirror_mode": {
    "name": "ipython",
    "version": 3
   },
   "file_extension": ".py",
   "mimetype": "text/x-python",
   "name": "python",
   "nbconvert_exporter": "python",
   "pygments_lexer": "ipython3",
   "version": "3.9.7"
  }
 },
 "nbformat": 4,
 "nbformat_minor": 5
}
