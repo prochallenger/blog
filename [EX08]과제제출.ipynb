{
 "cells": [
  {
   "cell_type": "markdown",
   "id": "ed3d39f5",
   "metadata": {},
   "source": [
    "## Exploration 08"
   ]
  },
  {
   "cell_type": "markdown",
   "id": "b976ec62",
   "metadata": {},
   "source": [
    "## 1. 데이터 준비"
   ]
  },
  {
   "cell_type": "code",
   "execution_count": 28,
   "id": "03d8f267",
   "metadata": {},
   "outputs": [
    {
     "name": "stderr",
     "output_type": "stream",
     "text": [
      "[nltk_data] Downloading package stopwords to /aiffel/nltk_data...\n",
      "[nltk_data]   Package stopwords is already up-to-date!\n"
     ]
    }
   ],
   "source": [
    "import nltk # NLTK 패키지에서 불용어 사전 다운로드\n",
    "nltk.download('stopwords')\n",
    "\n",
    "import numpy as np\n",
    "import pandas as pd\n",
    "import os\n",
    "import re\n",
    "import matplotlib.pyplot as plt\n",
    "from nltk.corpus import stopwords\n",
    "from bs4 import BeautifulSoup \n",
    "from tensorflow.keras.preprocessing.text import Tokenizer \n",
    "from tensorflow.keras.preprocessing.sequence import pad_sequences\n",
    "import urllib.request"
   ]
  },
  {
   "cell_type": "code",
   "execution_count": 29,
   "id": "8d7053ff",
   "metadata": {},
   "outputs": [],
   "source": [
    "import urllib.request # urllib을 이용하여 뉴스 기사 데이터를 다운로드\n",
    "urllib.request.urlretrieve(\"https://raw.githubusercontent.com/sunnysai12345/News_Summary/master/news_summary_more.csv\", filename=\"news_summary_more.csv\")\n",
    "data = pd.read_csv('news_summary_more.csv', encoding='iso-8859-1')"
   ]
  },
  {
   "cell_type": "code",
   "execution_count": 30,
   "id": "d331f066",
   "metadata": {},
   "outputs": [
    {
     "data": {
      "text/html": [
       "<div>\n",
       "<style scoped>\n",
       "    .dataframe tbody tr th:only-of-type {\n",
       "        vertical-align: middle;\n",
       "    }\n",
       "\n",
       "    .dataframe tbody tr th {\n",
       "        vertical-align: top;\n",
       "    }\n",
       "\n",
       "    .dataframe thead th {\n",
       "        text-align: right;\n",
       "    }\n",
       "</style>\n",
       "<table border=\"1\" class=\"dataframe\">\n",
       "  <thead>\n",
       "    <tr style=\"text-align: right;\">\n",
       "      <th></th>\n",
       "      <th>headlines</th>\n",
       "      <th>text</th>\n",
       "    </tr>\n",
       "  </thead>\n",
       "  <tbody>\n",
       "    <tr>\n",
       "      <th>20241</th>\n",
       "      <td>JNU to rename new management school after late...</td>\n",
       "      <td>JNU has proposed to rename its School of Manag...</td>\n",
       "    </tr>\n",
       "    <tr>\n",
       "      <th>96990</th>\n",
       "      <td>FreeCharge pulls out of IPL contract following...</td>\n",
       "      <td>Snapdeal-owned FreeCharge has pulled out from ...</td>\n",
       "    </tr>\n",
       "    <tr>\n",
       "      <th>93334</th>\n",
       "      <td>French judges ask EU Parliament to lift Le Pen...</td>\n",
       "      <td>French judges have asked the European Parliame...</td>\n",
       "    </tr>\n",
       "    <tr>\n",
       "      <th>63724</th>\n",
       "      <td>Man reselling his iPhone X pre-order for $60,0...</td>\n",
       "      <td>A user on eBay has put up his iPhone X pre-ord...</td>\n",
       "    </tr>\n",
       "    <tr>\n",
       "      <th>41134</th>\n",
       "      <td>Israel, UN reach deal to settle African migran...</td>\n",
       "      <td>Israel has reached a deal with the UN to settl...</td>\n",
       "    </tr>\n",
       "    <tr>\n",
       "      <th>6113</th>\n",
       "      <td>Our government has kept inflation on a tight l...</td>\n",
       "      <td>PM Narendra Modi, while interacting with booth...</td>\n",
       "    </tr>\n",
       "    <tr>\n",
       "      <th>38018</th>\n",
       "      <td>RJD leaders booked for forcing gangrape victim...</td>\n",
       "      <td>Seven members of the Rashtriya Janata Dal part...</td>\n",
       "    </tr>\n",
       "    <tr>\n",
       "      <th>53116</th>\n",
       "      <td>Nokia unveils sleep tracker to monitor user's ...</td>\n",
       "      <td>Nokia has unveiled a sleep tracking system cal...</td>\n",
       "    </tr>\n",
       "    <tr>\n",
       "      <th>81080</th>\n",
       "      <td>Gurugram museum to showcase an antique Kolkata...</td>\n",
       "      <td>The Heritage Transport Museum in Gurugram will...</td>\n",
       "    </tr>\n",
       "    <tr>\n",
       "      <th>5551</th>\n",
       "      <td>India will need 2,300 planes worth $320 billio...</td>\n",
       "      <td>India will need 2,300 airplanes worth $320 bil...</td>\n",
       "    </tr>\n",
       "  </tbody>\n",
       "</table>\n",
       "</div>"
      ],
      "text/plain": [
       "                                               headlines  \\\n",
       "20241  JNU to rename new management school after late...   \n",
       "96990  FreeCharge pulls out of IPL contract following...   \n",
       "93334  French judges ask EU Parliament to lift Le Pen...   \n",
       "63724  Man reselling his iPhone X pre-order for $60,0...   \n",
       "41134  Israel, UN reach deal to settle African migran...   \n",
       "6113   Our government has kept inflation on a tight l...   \n",
       "38018  RJD leaders booked for forcing gangrape victim...   \n",
       "53116  Nokia unveils sleep tracker to monitor user's ...   \n",
       "81080  Gurugram museum to showcase an antique Kolkata...   \n",
       "5551   India will need 2,300 planes worth $320 billio...   \n",
       "\n",
       "                                                    text  \n",
       "20241  JNU has proposed to rename its School of Manag...  \n",
       "96990  Snapdeal-owned FreeCharge has pulled out from ...  \n",
       "93334  French judges have asked the European Parliame...  \n",
       "63724  A user on eBay has put up his iPhone X pre-ord...  \n",
       "41134  Israel has reached a deal with the UN to settl...  \n",
       "6113   PM Narendra Modi, while interacting with booth...  \n",
       "38018  Seven members of the Rashtriya Janata Dal part...  \n",
       "53116  Nokia has unveiled a sleep tracking system cal...  \n",
       "81080  The Heritage Transport Museum in Gurugram will...  \n",
       "5551   India will need 2,300 airplanes worth $320 bil...  "
      ]
     },
     "execution_count": 30,
     "metadata": {},
     "output_type": "execute_result"
    }
   ],
   "source": [
    "data.sample(10) # headlines와 text로 이루어져 있는 데이터임을 확인하기 위함"
   ]
  },
  {
   "cell_type": "markdown",
   "id": "c22d3e12",
   "metadata": {},
   "source": [
    "## 2. 데이터 전처리"
   ]
  },
  {
   "cell_type": "markdown",
   "id": "e792558e",
   "metadata": {},
   "source": [
    "* headlines는 text의 요약이므로, 동일한 요약들이 존재할 수 있으나, text 자체가 중복이 된 경우는 중복 샘플이므로 제거해야 한다."
   ]
  },
  {
   "cell_type": "code",
   "execution_count": 31,
   "id": "3251f53b",
   "metadata": {},
   "outputs": [
    {
     "name": "stdout",
     "output_type": "stream",
     "text": [
      "text 열에서 중복을 배제한 유일한 샘플의 수 : 98360\n",
      "headlines 열에서 중복을 배제한 유일한 샘플의 수 : 98280\n"
     ]
    }
   ],
   "source": [
    "print('text 열에서 중복을 배제한 유일한 샘플의 수 :', data['text'].nunique())\n",
    "print('headlines 열에서 중복을 배제한 유일한 샘플의 수 :', data['headlines'].nunique())"
   ]
  },
  {
   "cell_type": "code",
   "execution_count": 32,
   "id": "d2e9ce82",
   "metadata": {},
   "outputs": [
    {
     "name": "stdout",
     "output_type": "stream",
     "text": [
      "전체 샘플 수 : 98360\n"
     ]
    }
   ],
   "source": [
    "# text의 중복 샘플을 drop_duplicates()를 이용하여 제거\n",
    "data.drop_duplicates(subset = ['text'], inplace = True)\n",
    "print('전체 샘플 수 :',(len(data)))"
   ]
  },
  {
   "cell_type": "code",
   "execution_count": 33,
   "id": "cb7d72fa",
   "metadata": {},
   "outputs": [
    {
     "name": "stdout",
     "output_type": "stream",
     "text": [
      "headlines    0\n",
      "text         0\n",
      "dtype: int64\n"
     ]
    }
   ],
   "source": [
    "# 데이터 프레임에 NULL값 있는지 확인\n",
    "print(data.isnull().sum())"
   ]
  },
  {
   "cell_type": "code",
   "execution_count": 34,
   "id": "38d47375",
   "metadata": {},
   "outputs": [
    {
     "name": "stdout",
     "output_type": "stream",
     "text": [
      "정규화 사전의 수:  120\n"
     ]
    }
   ],
   "source": [
    "# text 정규화를 위한 사전을 구성하는 과정\n",
    "# text normalization : 같은 의미이지만 다른 표현으로 사용되는 단어들을 같은 단어로 통일시켜주는 역할\n",
    "\n",
    "contractions = {\"ain't\": \"is not\", \"aren't\": \"are not\",\"can't\": \"cannot\", \"'cause\": \"because\", \"could've\": \"could have\", \"couldn't\": \"could not\",\n",
    "                           \"didn't\": \"did not\",  \"doesn't\": \"does not\", \"don't\": \"do not\", \"hadn't\": \"had not\", \"hasn't\": \"has not\", \"haven't\": \"have not\",\n",
    "                           \"he'd\": \"he would\",\"he'll\": \"he will\", \"he's\": \"he is\", \"how'd\": \"how did\", \"how'd'y\": \"how do you\", \"how'll\": \"how will\", \"how's\": \"how is\",\n",
    "                           \"I'd\": \"I would\", \"I'd've\": \"I would have\", \"I'll\": \"I will\", \"I'll've\": \"I will have\",\"I'm\": \"I am\", \"I've\": \"I have\", \"i'd\": \"i would\",\n",
    "                           \"i'd've\": \"i would have\", \"i'll\": \"i will\",  \"i'll've\": \"i will have\",\"i'm\": \"i am\", \"i've\": \"i have\", \"isn't\": \"is not\", \"it'd\": \"it would\",\n",
    "                           \"it'd've\": \"it would have\", \"it'll\": \"it will\", \"it'll've\": \"it will have\",\"it's\": \"it is\", \"let's\": \"let us\", \"ma'am\": \"madam\",\n",
    "                           \"mayn't\": \"may not\", \"might've\": \"might have\",\"mightn't\": \"might not\",\"mightn't've\": \"might not have\", \"must've\": \"must have\",\n",
    "                           \"mustn't\": \"must not\", \"mustn't've\": \"must not have\", \"needn't\": \"need not\", \"needn't've\": \"need not have\",\"o'clock\": \"of the clock\",\n",
    "                           \"oughtn't\": \"ought not\", \"oughtn't've\": \"ought not have\", \"shan't\": \"shall not\", \"sha'n't\": \"shall not\", \"shan't've\": \"shall not have\",\n",
    "                           \"she'd\": \"she would\", \"she'd've\": \"she would have\", \"she'll\": \"she will\", \"she'll've\": \"she will have\", \"she's\": \"she is\",\n",
    "                           \"should've\": \"should have\", \"shouldn't\": \"should not\", \"shouldn't've\": \"should not have\", \"so've\": \"so have\",\"so's\": \"so as\",\n",
    "                           \"this's\": \"this is\",\"that'd\": \"that would\", \"that'd've\": \"that would have\", \"that's\": \"that is\", \"there'd\": \"there would\",\n",
    "                           \"there'd've\": \"there would have\", \"there's\": \"there is\", \"here's\": \"here is\",\"they'd\": \"they would\", \"they'd've\": \"they would have\",\n",
    "                           \"they'll\": \"they will\", \"they'll've\": \"they will have\", \"they're\": \"they are\", \"they've\": \"they have\", \"to've\": \"to have\",\n",
    "                           \"wasn't\": \"was not\", \"we'd\": \"we would\", \"we'd've\": \"we would have\", \"we'll\": \"we will\", \"we'll've\": \"we will have\", \"we're\": \"we are\",\n",
    "                           \"we've\": \"we have\", \"weren't\": \"were not\", \"what'll\": \"what will\", \"what'll've\": \"what will have\", \"what're\": \"what are\",\n",
    "                           \"what's\": \"what is\", \"what've\": \"what have\", \"when's\": \"when is\", \"when've\": \"when have\", \"where'd\": \"where did\", \"where's\": \"where is\",\n",
    "                           \"where've\": \"where have\", \"who'll\": \"who will\", \"who'll've\": \"who will have\", \"who's\": \"who is\", \"who've\": \"who have\",\n",
    "                           \"why's\": \"why is\", \"why've\": \"why have\", \"will've\": \"will have\", \"won't\": \"will not\", \"won't've\": \"will not have\",\n",
    "                           \"would've\": \"would have\", \"wouldn't\": \"would not\", \"wouldn't've\": \"would not have\", \"y'all\": \"you all\",\n",
    "                           \"y'all'd\": \"you all would\",\"y'all'd've\": \"you all would have\",\"y'all're\": \"you all are\",\"y'all've\": \"you all have\",\n",
    "                           \"you'd\": \"you would\", \"you'd've\": \"you would have\", \"you'll\": \"you will\", \"you'll've\": \"you will have\",\n",
    "                           \"you're\": \"you are\", \"you've\": \"you have\"}\n",
    "\n",
    "print(\"정규화 사전의 수: \", len(contractions))"
   ]
  },
  {
   "cell_type": "code",
   "execution_count": 35,
   "id": "8107f919",
   "metadata": {},
   "outputs": [
    {
     "name": "stdout",
     "output_type": "stream",
     "text": [
      "불용어 개수 : 179\n",
      "['i', 'me', 'my', 'myself', 'we', 'our', 'ours', 'ourselves', 'you', \"you're\", \"you've\", \"you'll\", \"you'd\", 'your', 'yours', 'yourself', 'yourselves', 'he', 'him', 'his', 'himself', 'she', \"she's\", 'her', 'hers', 'herself', 'it', \"it's\", 'its', 'itself', 'they', 'them', 'their', 'theirs', 'themselves', 'what', 'which', 'who', 'whom', 'this', 'that', \"that'll\", 'these', 'those', 'am', 'is', 'are', 'was', 'were', 'be', 'been', 'being', 'have', 'has', 'had', 'having', 'do', 'does', 'did', 'doing', 'a', 'an', 'the', 'and', 'but', 'if', 'or', 'because', 'as', 'until', 'while', 'of', 'at', 'by', 'for', 'with', 'about', 'against', 'between', 'into', 'through', 'during', 'before', 'after', 'above', 'below', 'to', 'from', 'up', 'down', 'in', 'out', 'on', 'off', 'over', 'under', 'again', 'further', 'then', 'once', 'here', 'there', 'when', 'where', 'why', 'how', 'all', 'any', 'both', 'each', 'few', 'more', 'most', 'other', 'some', 'such', 'no', 'nor', 'not', 'only', 'own', 'same', 'so', 'than', 'too', 'very', 's', 't', 'can', 'will', 'just', 'don', \"don't\", 'should', \"should've\", 'now', 'd', 'll', 'm', 'o', 're', 've', 'y', 'ain', 'aren', \"aren't\", 'couldn', \"couldn't\", 'didn', \"didn't\", 'doesn', \"doesn't\", 'hadn', \"hadn't\", 'hasn', \"hasn't\", 'haven', \"haven't\", 'isn', \"isn't\", 'ma', 'mightn', \"mightn't\", 'mustn', \"mustn't\", 'needn', \"needn't\", 'shan', \"shan't\", 'shouldn', \"shouldn't\", 'wasn', \"wasn't\", 'weren', \"weren't\", 'won', \"won't\", 'wouldn', \"wouldn't\"]\n"
     ]
    }
   ],
   "source": [
    "\"\"\"NLTK에서 제공하는 불용어 리스트를 참조하여, \n",
    "샘플에서 불용어를 제거해야 하는데,\n",
    "먼저 그 전에 몇 개의 불용어가 있는지 확인하는 과정\"\"\"\n",
    "\n",
    "print('불용어 개수 :', len(stopwords.words('english') ))\n",
    "print(stopwords.words('english'))"
   ]
  },
  {
   "cell_type": "code",
   "execution_count": 36,
   "id": "90c399be",
   "metadata": {},
   "outputs": [],
   "source": [
    "def preprocess_sentence(sentence, remove_stopwords=True): # preprocess_sentence(): 텍스트 전처리 함수\n",
    "    sentence = sentence.lower() # 텍스트 소문자화\n",
    "    sentence = BeautifulSoup(sentence, \"lxml\").text # <br />, <a href = ...> 등의 html 태그 제거\n",
    "    sentence = re.sub(r'\\([^)]*\\)', '', sentence) # 괄호로 닫힌 문자열 (...) 제거 Ex) my husband (and myself!) for => my husband for\n",
    "    sentence = re.sub('\"','', sentence) # 쌍따옴표 \" 제거\n",
    "    sentence = ' '.join([contractions[t] if t in contractions else t for t in sentence.split(\" \")]) # 약어 정규화\n",
    "    sentence = re.sub(r\"'s\\b\",\"\",sentence) # 소유격 제거. Ex) roland's -> roland\n",
    "    sentence = re.sub(\"[^a-zA-Z]\", \" \", sentence) # 영어 외 문자(숫자, 특수문자 등) 공백으로 변환\n",
    "    sentence = re.sub('[m]{2,}', 'mm', sentence) # m이 3개 이상이면 2개로 변경. Ex) ummmmmmm yeah -> umm yeah\n",
    "    \n",
    "    # 불용어 제거 (text)\n",
    "    if remove_stopwords:\n",
    "        tokens = ' '.join(word for word in sentence.split() if not word in stopwords.words('english') if len(word) > 1)\n",
    "    # 불용어 미제거 (headlines)\n",
    "    else:\n",
    "        tokens = ' '.join(word for word in sentence.split() if len(word) > 1)\n",
    "    return tokens"
   ]
  },
  {
   "cell_type": "code",
   "execution_count": 37,
   "id": "771c50d2",
   "metadata": {},
   "outputs": [
    {
     "name": "stdout",
     "output_type": "stream",
     "text": [
      "Text 전처리 후 결과:  ['saurav kant alumnus upgrad iiit pg program machine learning artificial intelligence sr systems engineer infosys almost years work experience program upgrad degree career support helped transition data scientist tech mahindra salary hike upgrad online power learning powered lakh careers', 'kunal shah credit card bill payment platform cred gave users chance win free food swiggy one year pranav kaushik delhi techie bagged reward spending cred coins users get one cred coin per rupee bill paid used avail rewards brands like ixigo bookmyshow ubereats cult fit', 'new zealand defeated india wickets fourth odi hamilton thursday win first match five match odi series india lost international match rohit sharma captaincy consecutive victories dating back march match witnessed india getting seventh lowest total odi cricket history', 'aegon life iterm insurance plan customers enjoy tax benefits premiums paid save taxes plan provides life cover age years also customers options insure critical illnesses disability accidental death benefit rider life cover age years', 'speaking sexual harassment allegations rajkumar hirani sonam kapoor said known hirani many years true metoo movement get derailed metoo movement always believe woman case need reserve judgment added hirani accused assistant worked sanju']\n"
     ]
    }
   ],
   "source": [
    "clean_text = [] # 전체 text에 대하여 전처리 과정을 거침\n",
    "\n",
    "for s in data['text']: #전처리 과정을 거친 text 데이터는 clean_text라는 빈 리스트에 추가\n",
    "    clean_text.append(preprocess_sentence(s))\n",
    "\n",
    "# 전처리 후 출력\n",
    "print(\"Text 전처리 후 결과: \", clean_text[:5])"
   ]
  },
  {
   "cell_type": "code",
   "execution_count": 38,
   "id": "c585f693",
   "metadata": {},
   "outputs": [
    {
     "data": {
      "text/plain": [
       "['upgrad learner switches to career in ml al with salary hike',\n",
       " 'delhi techie wins free food from swiggy for one year on cred',\n",
       " 'new zealand end rohit sharma led india match winning streak',\n",
       " 'aegon life iterm insurance plan helps customers save tax',\n",
       " 'have known hirani for yrs what if metoo claims are not true sonam']"
      ]
     },
     "execution_count": 38,
     "metadata": {},
     "output_type": "execute_result"
    }
   ],
   "source": [
    "#이제 headlines에 대해서 전처리 함수를 호출해 줄 때는, 불용어 제거를 수행하지 않는다는 의미에서 두 번째 인자로 False를 넣는다.\n",
    "clean_headlines = []\n",
    "\n",
    "# 전체 headlines 데이터에 대한 전처리\n",
    "for s in data['headlines']:\n",
    "    clean_headlines.append(preprocess_sentence(s, False)) # 불용어를 제거하지 않습니다.\n",
    "\n",
    "clean_headlines[:5]"
   ]
  },
  {
   "cell_type": "code",
   "execution_count": 39,
   "id": "96942937",
   "metadata": {},
   "outputs": [],
   "source": [
    "# dataframe의 text와 headlines 열의 데이터들을 전처리 과정을 거친 clean_text와 clean_headlines 데이터로 바꿈\n",
    "data['text'] = clean_text\n",
    "data['headlines'] = clean_headlines\n",
    "\n",
    "# dataframe에 빈 문자열이 존재하는 경우, NULL 값으로 변환\n",
    "data.replace('', np.nan, inplace=True)"
   ]
  },
  {
   "cell_type": "code",
   "execution_count": 40,
   "id": "7510df48",
   "metadata": {},
   "outputs": [
    {
     "data": {
      "text/plain": [
       "headlines    0\n",
       "text         0\n",
       "dtype: int64"
      ]
     },
     "execution_count": 40,
     "metadata": {},
     "output_type": "execute_result"
    }
   ],
   "source": [
    "# dataframe 내에 NULL 값이 존재하는지 확인\n",
    "data.isnull().sum()"
   ]
  },
  {
   "cell_type": "code",
   "execution_count": 41,
   "id": "c5ef4664",
   "metadata": {},
   "outputs": [
    {
     "name": "stdout",
     "output_type": "stream",
     "text": [
      "전체 샘플수 : 98360\n"
     ]
    }
   ],
   "source": [
    "data.dropna(axis=0, inplace=True)\n",
    "print('전체 샘플수 :', (len(data)))"
   ]
  },
  {
   "cell_type": "markdown",
   "id": "bc01124c",
   "metadata": {},
   "source": [
    "## 3. 훈련 데이터와 테스트 데이터 분리"
   ]
  },
  {
   "cell_type": "code",
   "execution_count": 42,
   "id": "33dbecdc",
   "metadata": {},
   "outputs": [
    {
     "name": "stdout",
     "output_type": "stream",
     "text": [
      "텍스트의 최소 길이 : 1\n",
      "텍스트의 최대 길이 : 60\n",
      "텍스트의 평균 길이 : 35.09968483123221\n",
      "요약의 최소 길이 : 1\n",
      "요약의 최대 길이 : 16\n",
      "요약의 평균 길이 : 9.299532330215534\n"
     ]
    },
    {
     "data": {
      "image/png": "[encoded data removed]",
      "text/plain": [
       "<Figure size 432x288 with 2 Axes>"
      ]
     },
     "metadata": {
      "needs_background": "light"
     },
     "output_type": "display_data"
    },
    {
     "data": {
      "image/png": "[encoded data removed]",
      "text/plain": [
       "<Figure size 432x288 with 1 Axes>"
      ]
     },
     "metadata": {
      "needs_background": "light"
     },
     "output_type": "display_data"
    },
    {
     "data": {
      "image/png": "[encoded data removed]",
      "text/plain": [
       "<Figure size 432x288 with 1 Axes>"
      ]
     },
     "metadata": {
      "needs_background": "light"
     },
     "output_type": "display_data"
    }
   ],
   "source": [
    "\"\"\"\n",
    "* text와 headlines의 최소, 최대, 평균 길이를 확인하고 길이 분포를 시각화\n",
    "* text의 경우, 최소 길이와 최대 길이의 차이가 크지만, 대체적으로 25 ~ 45 사이의 길이를 갖는다는 것을 그래프를 통해 확인\n",
    "* headlines의 경우, 최소 길이와 최대 길이의 차이가 크지 않고, text에 비해 길이가 상대적으로 짧음\n",
    "\"\"\"\n",
    "\n",
    "import matplotlib.pyplot as plt\n",
    "\n",
    "text_len = [len(s.split()) for s in data['text']]\n",
    "headlines_len = [len(s.split()) for s in data['headlines']]\n",
    "\n",
    "print('텍스트의 최소 길이 : {}'.format(np.min(text_len)))\n",
    "print('텍스트의 최대 길이 : {}'.format(np.max(text_len)))\n",
    "print('텍스트의 평균 길이 : {}'.format(np.mean(text_len)))\n",
    "print('요약의 최소 길이 : {}'.format(np.min(headlines_len)))\n",
    "print('요약의 최대 길이 : {}'.format(np.max(headlines_len)))\n",
    "print('요약의 평균 길이 : {}'.format(np.mean(headlines_len)))\n",
    "\n",
    "plt.subplot(1,2,1)\n",
    "plt.boxplot(headlines_len)\n",
    "plt.title('headlines')\n",
    "plt.subplot(1,2,2)\n",
    "plt.boxplot(text_len)\n",
    "plt.title('text')\n",
    "plt.tight_layout()\n",
    "plt.show()\n",
    "\n",
    "plt.title('headlines')\n",
    "plt.hist(headlines_len, bins = 40)\n",
    "plt.xlabel('length of samples')\n",
    "plt.ylabel('number of samples')\n",
    "plt.show()\n",
    "\n",
    "plt.title('text')\n",
    "plt.hist(text_len, bins = 40)\n",
    "plt.xlabel('length of samples')\n",
    "plt.ylabel('number of samples')\n",
    "plt.show()"
   ]
  },
  {
   "cell_type": "code",
   "execution_count": 43,
   "id": "fef42006",
   "metadata": {},
   "outputs": [],
   "source": [
    "# text와 headlines의 적절한 최대 길이를 임의로 설정\n",
    "text_max_len = 45\n",
    "headlines_max_len = 13"
   ]
  },
  {
   "cell_type": "code",
   "execution_count": 44,
   "id": "fd74173b",
   "metadata": {},
   "outputs": [],
   "source": [
    "# 이전에 정한 최대 길이를 기준에 포함되는 text와 headlines의 비율을 계산하는 함수\n",
    "\n",
    "def below_threshold_len(max_len, nested_list):\n",
    "    cnt = 0\n",
    "    for s in nested_list:\n",
    "        if(len(s.split()) <= max_len):\n",
    "            cnt = cnt + 1\n",
    "    print('전체 샘플 중 길이가 %s 이하인 샘플의 비율: %s'%(max_len, (cnt / len(nested_list))))"
   ]
  },
  {
   "cell_type": "code",
   "execution_count": 45,
   "id": "e33e053f",
   "metadata": {},
   "outputs": [
    {
     "name": "stdout",
     "output_type": "stream",
     "text": [
      "전체 샘플 중 길이가 45 이하인 샘플의 비율: 0.9967771451809678\n",
      "전체 샘플 중 길이가 13 이하인 샘플의 비율: 0.9981699877999186\n"
     ]
    }
   ],
   "source": [
    "# text와 headlines의 약 99% 이상의 데이터들이 포함되는 것을 확인\n",
    "below_threshold_len(text_max_len, data['text'])\n",
    "below_threshold_len(headlines_max_len, data['headlines'])"
   ]
  },
  {
   "cell_type": "code",
   "execution_count": 46,
   "id": "42ae7fe3",
   "metadata": {},
   "outputs": [
    {
     "name": "stdout",
     "output_type": "stream",
     "text": [
      "전체 샘플 수 : 97863\n"
     ]
    }
   ],
   "source": [
    "\"\"\"이전에 설정한 최대 길이보다 짧은 text, headlines만 dataframe에 남겨놓음(설정한 최대 길이보다 긴 데이터들은 dataframe에서 제외)\"\"\"\n",
    "data = data[data['text'].apply(lambda x: len(x.split()) <= text_max_len)]\n",
    "data = data[data['headlines'].apply(lambda x: len(x.split()) <= headlines_max_len)]\n",
    "print('전체 샘플 수 :',(len(data))) # 최종적으로 남는 샘플의 수는 97,863개"
   ]
  },
  {
   "cell_type": "code",
   "execution_count": 47,
   "id": "cbe78e88",
   "metadata": {},
   "outputs": [
    {
     "data": {
      "text/html": [
       "<div>\n",
       "<style scoped>\n",
       "    .dataframe tbody tr th:only-of-type {\n",
       "        vertical-align: middle;\n",
       "    }\n",
       "\n",
       "    .dataframe tbody tr th {\n",
       "        vertical-align: top;\n",
       "    }\n",
       "\n",
       "    .dataframe thead th {\n",
       "        text-align: right;\n",
       "    }\n",
       "</style>\n",
       "<table border=\"1\" class=\"dataframe\">\n",
       "  <thead>\n",
       "    <tr style=\"text-align: right;\">\n",
       "      <th></th>\n",
       "      <th>headlines</th>\n",
       "      <th>text</th>\n",
       "      <th>decoder_input</th>\n",
       "      <th>decoder_target</th>\n",
       "    </tr>\n",
       "  </thead>\n",
       "  <tbody>\n",
       "    <tr>\n",
       "      <th>0</th>\n",
       "      <td>upgrad learner switches to career in ml al wit...</td>\n",
       "      <td>saurav kant alumnus upgrad iiit pg program mac...</td>\n",
       "      <td>sostoken upgrad learner switches to career in ...</td>\n",
       "      <td>upgrad learner switches to career in ml al wit...</td>\n",
       "    </tr>\n",
       "    <tr>\n",
       "      <th>1</th>\n",
       "      <td>delhi techie wins free food from swiggy for on...</td>\n",
       "      <td>kunal shah credit card bill payment platform c...</td>\n",
       "      <td>sostoken delhi techie wins free food from swig...</td>\n",
       "      <td>delhi techie wins free food from swiggy for on...</td>\n",
       "    </tr>\n",
       "    <tr>\n",
       "      <th>2</th>\n",
       "      <td>new zealand end rohit sharma led india match w...</td>\n",
       "      <td>new zealand defeated india wickets fourth odi ...</td>\n",
       "      <td>sostoken new zealand end rohit sharma led indi...</td>\n",
       "      <td>new zealand end rohit sharma led india match w...</td>\n",
       "    </tr>\n",
       "    <tr>\n",
       "      <th>3</th>\n",
       "      <td>aegon life iterm insurance plan helps customer...</td>\n",
       "      <td>aegon life iterm insurance plan customers enjo...</td>\n",
       "      <td>sostoken aegon life iterm insurance plan helps...</td>\n",
       "      <td>aegon life iterm insurance plan helps customer...</td>\n",
       "    </tr>\n",
       "    <tr>\n",
       "      <th>4</th>\n",
       "      <td>have known hirani for yrs what if metoo claims...</td>\n",
       "      <td>speaking sexual harassment allegations rajkuma...</td>\n",
       "      <td>sostoken have known hirani for yrs what if met...</td>\n",
       "      <td>have known hirani for yrs what if metoo claims...</td>\n",
       "    </tr>\n",
       "  </tbody>\n",
       "</table>\n",
       "</div>"
      ],
      "text/plain": [
       "                                           headlines  \\\n",
       "0  upgrad learner switches to career in ml al wit...   \n",
       "1  delhi techie wins free food from swiggy for on...   \n",
       "2  new zealand end rohit sharma led india match w...   \n",
       "3  aegon life iterm insurance plan helps customer...   \n",
       "4  have known hirani for yrs what if metoo claims...   \n",
       "\n",
       "                                                text  \\\n",
       "0  saurav kant alumnus upgrad iiit pg program mac...   \n",
       "1  kunal shah credit card bill payment platform c...   \n",
       "2  new zealand defeated india wickets fourth odi ...   \n",
       "3  aegon life iterm insurance plan customers enjo...   \n",
       "4  speaking sexual harassment allegations rajkuma...   \n",
       "\n",
       "                                       decoder_input  \\\n",
       "0  sostoken upgrad learner switches to career in ...   \n",
       "1  sostoken delhi techie wins free food from swig...   \n",
       "2  sostoken new zealand end rohit sharma led indi...   \n",
       "3  sostoken aegon life iterm insurance plan helps...   \n",
       "4  sostoken have known hirani for yrs what if met...   \n",
       "\n",
       "                                      decoder_target  \n",
       "0  upgrad learner switches to career in ml al wit...  \n",
       "1  delhi techie wins free food from swiggy for on...  \n",
       "2  new zealand end rohit sharma led india match w...  \n",
       "3  aegon life iterm insurance plan helps customer...  \n",
       "4  have known hirani for yrs what if metoo claims...  "
      ]
     },
     "execution_count": 47,
     "metadata": {},
     "output_type": "execute_result"
    }
   ],
   "source": [
    "\"\"\"요약 데이터에 시작 토큰과 종료 토큰을 추가\n",
    ":디코더에서 시작 토큰을 입력받아 문장을 생성하기 시작하고, \n",
    "종료 토큰을 예측하는 순간 문장 생성을 멈춤\"\"\"\n",
    "\n",
    "data['decoder_input'] = data['headlines'].apply(lambda x : 'sostoken '+ x)\n",
    "data['decoder_target'] = data['headlines'].apply(lambda x : x + ' eostoken')\n",
    "data.head()"
   ]
  },
  {
   "cell_type": "code",
   "execution_count": 48,
   "id": "f0b59738",
   "metadata": {},
   "outputs": [],
   "source": [
    "# 인코더의 입력, 디코더의 입력, 디코더의 레이블을 numpy 타입으로 dataframe에 저장\n",
    "\n",
    "encoder_input = np.array(data['text']) # 인코더의 입력\n",
    "decoder_input = np.array(data['decoder_input']) # 디코더의 입력\n",
    "decoder_target = np.array(data['decoder_target']) # 디코더의 레이블"
   ]
  },
  {
   "cell_type": "code",
   "execution_count": 49,
   "id": "8a726441",
   "metadata": {},
   "outputs": [
    {
     "name": "stdout",
     "output_type": "stream",
     "text": [
      "[61184 48725  3978 ... 52968 80020 17107]\n"
     ]
    }
   ],
   "source": [
    "\"\"\"훈련 데이터와 테스트 데이터를 분리하기 전에, \n",
    "encoder_input과 크기와 형태가 같은 순서가 섞인 정수 시퀀스를 선언\"\"\"\n",
    "\n",
    "indices = np.arange(encoder_input.shape[0])\n",
    "np.random.shuffle(indices)\n",
    "print(indices)"
   ]
  },
  {
   "cell_type": "code",
   "execution_count": 50,
   "id": "90f3443f",
   "metadata": {},
   "outputs": [],
   "source": [
    "\"\"\"앞서 만든 정수 시퀀스를 이용하여, 데이터의 샘플 순서를 정의.\n",
    "샘플을 섞어주는 역할을 수행함.\"\"\"\n",
    "\n",
    "encoder_input = encoder_input[indices]\n",
    "decoder_input = decoder_input[indices]\n",
    "decoder_target = decoder_target[indices]"
   ]
  },
  {
   "cell_type": "code",
   "execution_count": 51,
   "id": "993266a5",
   "metadata": {},
   "outputs": [
    {
     "name": "stdout",
     "output_type": "stream",
     "text": [
      "테스트 데이터의 수 : 19572\n"
     ]
    }
   ],
   "source": [
    "\"\"\"섞인 데이터를 8:2의 비율로 훈련 데이터와 테스트 데이터로 분리하기 위함.\n",
    "전체 데이터 크기에 0.2를 곱하여, 테스트 데이터의 크기를 정의\"\"\"\n",
    "\n",
    "n_of_val = int(len(encoder_input)*0.2)\n",
    "print('테스트 데이터의 수 :',n_of_val)"
   ]
  },
  {
   "cell_type": "code",
   "execution_count": 52,
   "id": "fd2b8ec8",
   "metadata": {
    "scrolled": true
   },
   "outputs": [
    {
     "name": "stdout",
     "output_type": "stream",
     "text": [
      "훈련 데이터의 개수 : 78291\n",
      "훈련 레이블의 개수 : 78291\n",
      "테스트 데이터의 개수 : 19572\n",
      "테스트 레이블의 개수 : 19572\n"
     ]
    }
   ],
   "source": [
    "\"\"\"앞서 정의한 테스트 데이터의 갯수를 이용하여 \n",
    "전체 데이터를 훈련 데이터와 테스트 데이터로 분리함.\"\"\"\n",
    "\n",
    "encoder_input_train = encoder_input[:-n_of_val]\n",
    "decoder_input_train = decoder_input[:-n_of_val]\n",
    "decoder_target_train = decoder_target[:-n_of_val]\n",
    "\n",
    "encoder_input_test = encoder_input[-n_of_val:]\n",
    "decoder_input_test = decoder_input[-n_of_val:]\n",
    "decoder_target_test = decoder_target[-n_of_val:]\n",
    "\n",
    "print('훈련 데이터의 개수 :',len(encoder_input_train))\n",
    "print('훈련 레이블의 개수 :',len(decoder_input_train))\n",
    "print('테스트 데이터의 개수 :',len(encoder_input_test))\n",
    "print('테스트 레이블의 개수 :',len(decoder_input_test))"
   ]
  },
  {
   "cell_type": "markdown",
   "id": "ad1186ce",
   "metadata": {},
   "source": [
    "## 4. 정수 인코딩"
   ]
  },
  {
   "cell_type": "code",
   "execution_count": 53,
   "id": "b0d46b4f",
   "metadata": {},
   "outputs": [],
   "source": [
    "src_tokenizer = Tokenizer() # 토크나이저 정의\n",
    "src_tokenizer.fit_on_texts(encoder_input_train) # 입력된 데이터로부터 단어 집합 생성"
   ]
  },
  {
   "cell_type": "code",
   "execution_count": 54,
   "id": "927ba266",
   "metadata": {
    "scrolled": true
   },
   "outputs": [
    {
     "name": "stdout",
     "output_type": "stream",
     "text": [
      "단어 집합(vocabulary)의 크기 : 69205\n",
      "등장 빈도가 6번 이하인 희귀 단어의 수: 47077\n",
      "단어 집합에서 희귀 단어를 제외시킬 경우의 단어 집합의 크기 22128\n",
      "단어 집합에서 희귀 단어의 비율: 68.02543168846181\n",
      "전체 등장 빈도에서 희귀 단어 등장 빈도 비율: 3.4827820585764795\n"
     ]
    }
   ],
   "source": [
    "\"\"\"등장 빈도가 threshold 보다 작은 단어들은 정수 인코딩 과정에서 제외하고, \n",
    "훈련 데이터에서 제거하기 위한 과정\n",
    "\n",
    "전체 단어의 빈도수 총합과 \n",
    "threshold보다 빈도수가 작은 단어의 등장 빈도수의 총합을 출력\"\"\"\n",
    "\n",
    "threshold = 7 # 빈도수 : threshold를 설정하여, 등장 빈도가 7회 미만인 단어들의 갯수를 카운트\n",
    "total_cnt = len(src_tokenizer.word_index) # 단어의 수\n",
    "rare_cnt = 0 # 등장 빈도수가 threshold보다 작은 단어의 개수를 카운트\n",
    "total_freq = 0 # 훈련 데이터의 전체 단어 빈도수 총 합\n",
    "rare_freq = 0 # 등장 빈도수가 threshold보다 작은 단어의 등장 빈도수의 총 합\n",
    "\n",
    "# 단어와 빈도수의 쌍(pair)을 key와 value로 받는다.\n",
    "for key, value in src_tokenizer.word_counts.items():\n",
    "    total_freq = total_freq + value\n",
    "\n",
    "    # 단어의 등장 빈도수가 threshold보다 작으면\n",
    "    if(value < threshold):\n",
    "        rare_cnt = rare_cnt + 1\n",
    "        rare_freq = rare_freq + value\n",
    "\n",
    "print('단어 집합(vocabulary)의 크기 :',total_cnt)\n",
    "print('등장 빈도가 %s번 이하인 희귀 단어의 수: %s'%(threshold - 1, rare_cnt))\n",
    "print('단어 집합에서 희귀 단어를 제외시킬 경우의 단어 집합의 크기 %s'%(total_cnt - rare_cnt))\n",
    "print(\"단어 집합에서 희귀 단어의 비율:\", (rare_cnt / total_cnt)*100)\n",
    "print(\"전체 등장 빈도에서 희귀 단어 등장 빈도 비율:\", (rare_freq / total_freq)*100)"
   ]
  },
  {
   "cell_type": "markdown",
   "id": "1363082f",
   "metadata": {},
   "source": [
    "threshold 보다 빈도수가 적은 단어의 갯수는 47,107개로 약 68%"
   ]
  },
  {
   "cell_type": "code",
   "execution_count": 55,
   "id": "2a0a4a33",
   "metadata": {},
   "outputs": [],
   "source": [
    "\"\"\"등장 빈도가 threshold 보다 적은 단어들을 제외한 단어 집합의 크기가 22,065개 이므로, \n",
    "단어 집합의 크기를 20,000으로 설정\"\"\"\n",
    "\n",
    "src_vocab = 20000\n",
    "src_tokenizer = Tokenizer(num_words = src_vocab)\n",
    "src_tokenizer.fit_on_texts(encoder_input_train) # 단어 집합의 크기를 이용하여, 단어 집합을 재생성"
   ]
  },
  {
   "cell_type": "code",
   "execution_count": 56,
   "id": "86823bc7",
   "metadata": {},
   "outputs": [
    {
     "name": "stdout",
     "output_type": "stream",
     "text": [
      "[[5519, 56, 551, 1089, 419, 854, 653, 942, 169, 12857, 157, 8, 86, 323, 3777, 5, 21, 423, 4297, 4095, 1, 101, 125, 551, 1089, 5266, 9791, 120, 743, 306, 5, 5464, 1, 7779, 4369, 541, 12146, 226], [12, 1644, 37, 92, 1291, 18, 4820, 2948, 5684, 37, 1007, 1798, 213, 84, 786, 22, 563, 4820, 1291, 196, 12, 37, 4820, 183, 18, 1979], [1402, 390, 2, 3170, 521, 1547, 107, 10942, 5639, 13685, 707, 6216, 171, 5009, 6933, 13686, 629, 1629, 226, 425, 124, 7323, 721, 705, 2302, 237, 2007, 385, 1098, 10662, 1, 615, 7204, 3836, 3529, 1037, 10662, 4]]\n"
     ]
    }
   ],
   "source": [
    "# 텍스트 시퀀스를 정수 시퀀스로 변환\n",
    "encoder_input_train = src_tokenizer.texts_to_sequences(encoder_input_train) \n",
    "encoder_input_test = src_tokenizer.texts_to_sequences(encoder_input_test)\n",
    "\n",
    "# 잘 진행되었는지 샘플 출력\n",
    "print(encoder_input_train[:3])"
   ]
  },
  {
   "cell_type": "code",
   "execution_count": 57,
   "id": "bbcf94a1",
   "metadata": {},
   "outputs": [],
   "source": [
    "\"\"\"keras의 토크나이저를 이용하여, \n",
    "decoder_input에 대해서도 encoder_input과 똑같은 작업을 수행\"\"\"\n",
    "\n",
    "tar_tokenizer = Tokenizer()\n",
    "tar_tokenizer.fit_on_texts(decoder_input_train)"
   ]
  },
  {
   "cell_type": "code",
   "execution_count": 58,
   "id": "d879f299",
   "metadata": {},
   "outputs": [
    {
     "name": "stdout",
     "output_type": "stream",
     "text": [
      "단어 집합(vocabulary)의 크기 : 30013\n",
      "등장 빈도가 5번 이하인 희귀 단어의 수: 19635\n",
      "단어 집합에서 희귀 단어를 제외시킬 경우의 단어 집합의 크기 10378\n",
      "단어 집합에서 희귀 단어의 비율: 65.42165061806551\n",
      "전체 등장 빈도에서 희귀 단어 등장 빈도 비율: 4.6725512917484835\n"
     ]
    }
   ],
   "source": [
    "# 데이터 내 각 단어의 등장 빈도수를 확인하는 과정.\n",
    "\n",
    "threshold = 6\n",
    "total_cnt = len(tar_tokenizer.word_index) # threshold를 설정하여, 등장 빈도가 6회 미만인 단어들의 갯수를 카운트\n",
    "rare_cnt = 0 # 등장 빈도수가 threshold보다 작은 단어의 개수를 카운트\n",
    "total_freq = 0 # 훈련 데이터의 전체 단어 빈도수 총 합\n",
    "rare_freq = 0 # 등장 빈도수가 threshold보다 작은 단어의 등장 빈도수의 총 합\n",
    "\n",
    "# 단어와 빈도수의 쌍(pair)을 key와 value로 받는다.\n",
    "for key, value in tar_tokenizer.word_counts.items():\n",
    "    total_freq = total_freq + value\n",
    "\n",
    "    # 단어의 등장 빈도수가 threshold보다 작으면\n",
    "    if(value < threshold):\n",
    "        rare_cnt = rare_cnt + 1\n",
    "        rare_freq = rare_freq + value\n",
    "\n",
    "print('단어 집합(vocabulary)의 크기 :',total_cnt)\n",
    "print('등장 빈도가 %s번 이하인 희귀 단어의 수: %s'%(threshold - 1, rare_cnt))\n",
    "print('단어 집합에서 희귀 단어를 제외시킬 경우의 단어 집합의 크기 %s'%(total_cnt - rare_cnt))\n",
    "print(\"단어 집합에서 희귀 단어의 비율:\", (rare_cnt / total_cnt)*100)\n",
    "print(\"전체 등장 빈도에서 희귀 단어 등장 빈도 비율:\", (rare_freq / total_freq)*100)\n",
    "\n",
    "# 등장 빈도가 threshold 보다 작은 단어들은 정수 인코딩 과정에서 제외하고, 훈련 데이터에서 제거"
   ]
  },
  {
   "cell_type": "code",
   "execution_count": 59,
   "id": "8d60b1f9",
   "metadata": {},
   "outputs": [
    {
     "name": "stdout",
     "output_type": "stream",
     "text": [
      "input\n",
      "input  [[1, 245, 1084, 549, 6, 1317, 13], [1, 30, 20, 158, 2613, 6, 14, 33, 4, 4000, 8764], [1, 4824, 1390, 8765, 5407, 3790, 7, 338, 1019, 222], [1, 6181, 1585, 1100, 1048, 285], [1, 2382, 15, 8159, 6, 3096, 6, 9529, 4, 4668]]\n",
      "target\n",
      "decoder  [[245, 1084, 549, 6, 1317, 13, 2], [30, 20, 158, 2613, 6, 14, 33, 4, 4000, 8764, 2], [4824, 1390, 8765, 5407, 3790, 7, 338, 1019, 222, 2], [6181, 1585, 1100, 1048, 285, 2], [2382, 15, 8159, 6, 3096, 6, 9529, 4, 4668, 2]]\n"
     ]
    }
   ],
   "source": [
    "\"\"\"등장 빈도가 threshold 보다 적은 단어들을 제외한 단어 집합의 크기가 10000여개 이므로, \n",
    "단어 집합의 크기를 10,000으로 설정\n",
    "\n",
    "단어 집합의 크기를 이용하여, 단어 집합을 재생성\"\"\"\n",
    "tar_vocab = 10000\n",
    "tar_tokenizer = Tokenizer(num_words = tar_vocab) \n",
    "tar_tokenizer.fit_on_texts(decoder_input_train)\n",
    "tar_tokenizer.fit_on_texts(decoder_target_train)\n",
    "\n",
    "# 텍스트 시퀀스를 정수 시퀀스로 변환\n",
    "decoder_input_train = tar_tokenizer.texts_to_sequences(decoder_input_train) \n",
    "decoder_target_train = tar_tokenizer.texts_to_sequences(decoder_target_train)\n",
    "decoder_input_test = tar_tokenizer.texts_to_sequences(decoder_input_test)\n",
    "decoder_target_test = tar_tokenizer.texts_to_sequences(decoder_target_test)\n",
    "\n",
    "# 샘플을 출력하여 확인\n",
    "print('input')\n",
    "print('input ',decoder_input_train[:5])\n",
    "print('target')\n",
    "print('decoder ',decoder_target_train[:5])"
   ]
  },
  {
   "cell_type": "code",
   "execution_count": 33,
   "id": "8f3a3f49",
   "metadata": {},
   "outputs": [
    {
     "name": "stdout",
     "output_type": "stream",
     "text": [
      "삭제할 훈련 데이터의 개수 : 1\n",
      "삭제할 테스트 데이터의 개수 : 0\n",
      "훈련 데이터의 개수 : 78290\n",
      "훈련 레이블의 개수 : 78290\n",
      "테스트 데이터의 개수 : 19572\n",
      "테스트 레이블의 개수 : 19572\n"
     ]
    },
    {
     "name": "stderr",
     "output_type": "stream",
     "text": [
      "/opt/conda/lib/python3.7/site-packages/numpy/core/_asarray.py:83: VisibleDeprecationWarning: Creating an ndarray from ragged nested sequences (which is a list-or-tuple of lists-or-tuples-or ndarrays with different lengths or shapes) is deprecated. If you meant to do this, you must specify 'dtype=object' when creating the ndarray\n",
      "  return array(a, dtype, copy=False, order=order)\n"
     ]
    }
   ],
   "source": [
    "# 요약문의 길이가 1인 경우 삭제\n",
    "\n",
    "drop_train = [index for index, sentence in enumerate(decoder_input_train) if len(sentence) == 1]\n",
    "drop_test = [index for index, sentence in enumerate(decoder_input_test) if len(sentence) == 1]\n",
    "\n",
    "print('삭제할 훈련 데이터의 개수 :',len(drop_train))\n",
    "print('삭제할 테스트 데이터의 개수 :',len(drop_test))\n",
    "\n",
    "encoder_input_train = np.delete(encoder_input_train, drop_train, axis=0)\n",
    "decoder_input_train = np.delete(decoder_input_train, drop_train, axis=0)\n",
    "decoder_target_train = np.delete(decoder_target_train, drop_train, axis=0)\n",
    "\n",
    "encoder_input_test = np.delete(encoder_input_test, drop_test, axis=0)\n",
    "decoder_input_test = np.delete(decoder_input_test, drop_test, axis=0)\n",
    "decoder_target_test = np.delete(decoder_target_test, drop_test, axis=0)\n",
    "\n",
    "print('훈련 데이터의 개수 :',len(encoder_input_train))\n",
    "print('훈련 레이블의 개수 :',len(decoder_input_train))\n",
    "print('테스트 데이터의 개수 :',len(encoder_input_test))\n",
    "print('테스트 레이블의 개수 :',len(decoder_input_test))"
   ]
  },
  {
   "cell_type": "code",
   "execution_count": 60,
   "id": "96665978",
   "metadata": {},
   "outputs": [],
   "source": [
    "\"\"\"서로 다른 길이의 샘플들을 병렬 처리하기 위해서, \n",
    "패딩을 이용하여 같은 길이로 맞춰주는 작업을 진행\"\"\"\n",
    "\n",
    "encoder_input_train = pad_sequences(encoder_input_train, maxlen = text_max_len, padding='post')\n",
    "encoder_input_test = pad_sequences(encoder_input_test, maxlen = text_max_len, padding='post')\n",
    "decoder_input_train = pad_sequences(decoder_input_train, maxlen = headlines_max_len, padding='post')\n",
    "decoder_target_train = pad_sequences(decoder_target_train, maxlen = headlines_max_len, padding='post')\n",
    "decoder_input_test = pad_sequences(decoder_input_test, maxlen = headlines_max_len, padding='post')\n",
    "decoder_target_test = pad_sequences(decoder_target_test, maxlen = headlines_max_len, padding='post')"
   ]
  },
  {
   "cell_type": "markdown",
   "id": "6b018942",
   "metadata": {},
   "source": [
    "## 5. 모델 설계하기"
   ]
  },
  {
   "cell_type": "code",
   "execution_count": 61,
   "id": "c3e607cd",
   "metadata": {},
   "outputs": [
    {
     "name": "stdout",
     "output_type": "stream",
     "text": [
      "WARNING:tensorflow:Layer lstm will not use cuDNN kernels since it doesn't meet the criteria. It will use a generic GPU kernel as fallback when running on GPU.\n",
      "WARNING:tensorflow:Layer lstm_1 will not use cuDNN kernels since it doesn't meet the criteria. It will use a generic GPU kernel as fallback when running on GPU.\n",
      "WARNING:tensorflow:Layer lstm_2 will not use cuDNN kernels since it doesn't meet the criteria. It will use a generic GPU kernel as fallback when running on GPU.\n"
     ]
    }
   ],
   "source": [
    "from tensorflow.keras.layers import Input, LSTM, Embedding, Dense, Concatenate\n",
    "from tensorflow.keras.models import Model\n",
    "from tensorflow.keras.callbacks import EarlyStopping, ModelCheckpoint\n",
    "\n",
    "# 인코더 설계 시작\n",
    "embedding_dim = 128\n",
    "hidden_size = 256\n",
    "\n",
    "# 인코더\n",
    "encoder_inputs = Input(shape=(text_max_len,))\n",
    "\n",
    "# 인코더의 임베딩 층\n",
    "enc_emb = Embedding(src_vocab, embedding_dim)(encoder_inputs)\n",
    "\n",
    "# 인코더의 LSTM 1 (3개의 층으로 구성)\n",
    "encoder_lstm1 = LSTM(hidden_size, return_sequences=True, return_state=True, dropout = 0.4, recurrent_dropout = 0.4)\n",
    "encoder_output1, state_h1, state_c1 = encoder_lstm1(enc_emb)\n",
    "\n",
    "# 인코더의 LSTM 2\n",
    "encoder_lstm2 = LSTM(hidden_size, return_sequences=True, return_state=True, dropout=0.4, recurrent_dropout=0.4)\n",
    "encoder_output2, state_h2, state_c2 = encoder_lstm2(encoder_output1)\n",
    "\n",
    "# 인코더의 LSTM 3\n",
    "encoder_lstm3 = LSTM(hidden_size, return_state=True, return_sequences=True, dropout=0.4, recurrent_dropout=0.4)\n",
    "encoder_outputs, state_h, state_c= encoder_lstm3(encoder_output2)\n",
    "\n",
    "# 인코더의 최종 출력 벡터는 디코더로 보냄."
   ]
  },
  {
   "cell_type": "code",
   "execution_count": 62,
   "id": "53f402a3",
   "metadata": {},
   "outputs": [
    {
     "name": "stdout",
     "output_type": "stream",
     "text": [
      "WARNING:tensorflow:Layer lstm_3 will not use cuDNN kernels since it doesn't meet the criteria. It will use a generic GPU kernel as fallback when running on GPU.\n"
     ]
    }
   ],
   "source": [
    "\"\"\"디코더의 임베딩 층을 설계하는 것은 인코더와 동일\n",
    "LSTM 층은 initial_state의 인자값으로 인코더의 hidden state와 cell state의 값을 넣어줌\"\"\"\n",
    "\n",
    "# 디코더 설계\n",
    "decoder_inputs = Input(shape=(None,))\n",
    "\n",
    "# 디코더의 임베딩 층\n",
    "dec_emb_layer = Embedding(tar_vocab, embedding_dim)\n",
    "dec_emb = dec_emb_layer(decoder_inputs)\n",
    "\n",
    "# 디코더의 LSTM\n",
    "decoder_lstm = LSTM(hidden_size, return_sequences = True, return_state = True, dropout = 0.4, recurrent_dropout=0.2)\n",
    "decoder_outputs, _, _ = decoder_lstm(dec_emb, initial_state = [state_h, state_c])"
   ]
  },
  {
   "cell_type": "code",
   "execution_count": 65,
   "id": "0852b50a",
   "metadata": {},
   "outputs": [
    {
     "name": "stdout",
     "output_type": "stream",
     "text": [
      "Model: \"model\"\n",
      "__________________________________________________________________________________________________\n",
      "Layer (type)                    Output Shape         Param #     Connected to                     \n",
      "==================================================================================================\n",
      "input_1 (InputLayer)            [(None, 45)]         0                                            \n",
      "__________________________________________________________________________________________________\n",
      "embedding (Embedding)           (None, 45, 128)      2560000     input_1[0][0]                    \n",
      "__________________________________________________________________________________________________\n",
      "lstm (LSTM)                     [(None, 45, 256), (N 394240      embedding[0][0]                  \n",
      "__________________________________________________________________________________________________\n",
      "input_2 (InputLayer)            [(None, None)]       0                                            \n",
      "__________________________________________________________________________________________________\n",
      "lstm_1 (LSTM)                   [(None, 45, 256), (N 525312      lstm[0][0]                       \n",
      "__________________________________________________________________________________________________\n",
      "embedding_1 (Embedding)         (None, None, 128)    1280000     input_2[0][0]                    \n",
      "__________________________________________________________________________________________________\n",
      "lstm_2 (LSTM)                   [(None, 45, 256), (N 525312      lstm_1[0][0]                     \n",
      "__________________________________________________________________________________________________\n",
      "lstm_3 (LSTM)                   [(None, None, 256),  394240      embedding_1[0][0]                \n",
      "                                                                 lstm_2[0][1]                     \n",
      "                                                                 lstm_2[0][2]                     \n",
      "__________________________________________________________________________________________________\n",
      "attention_layer (AdditiveAttent (None, None, 256)    256         lstm_3[0][0]                     \n",
      "                                                                 lstm_2[0][0]                     \n",
      "__________________________________________________________________________________________________\n",
      "concat_layer (Concatenate)      (None, None, 512)    0           lstm_3[0][0]                     \n",
      "                                                                 attention_layer[0][0]            \n",
      "__________________________________________________________________________________________________\n",
      "dense (Dense)                   (None, None, 10000)  5130000     concat_layer[0][0]               \n",
      "==================================================================================================\n",
      "Total params: 10,809,360\n",
      "Trainable params: 10,809,360\n",
      "Non-trainable params: 0\n",
      "__________________________________________________________________________________________________\n"
     ]
    }
   ],
   "source": [
    "from tensorflow.keras.layers import AdditiveAttention\n",
    "\n",
    "# 어텐션 층(어텐션 함수)\n",
    "attn_layer = AdditiveAttention(name='attention_layer')\n",
    "\n",
    "# 인코더와 디코더의 모든 time step의 hidden state를 어텐션 층에 전달하고 결과를 리턴\n",
    "attn_out = attn_layer([decoder_outputs, encoder_outputs])\n",
    "\n",
    "# 어텐션의 결과와 디코더의 hidden state들을 연결\n",
    "decoder_concat_input = Concatenate(axis = -1, name='concat_layer')([decoder_outputs, attn_out])\n",
    "\n",
    "# 디코더의 출력층\n",
    "decoder_softmax_layer = Dense(tar_vocab, activation='softmax')\n",
    "decoder_softmax_outputs = decoder_softmax_layer(decoder_concat_input)\n",
    "\n",
    "# 모델 정의\n",
    "model = Model([encoder_inputs, decoder_inputs], decoder_softmax_outputs)\n",
    "model.summary()"
   ]
  },
  {
   "cell_type": "markdown",
   "id": "a45ed4b9",
   "metadata": {},
   "source": [
    "## 6. 모델 훈련하기"
   ]
  },
  {
   "cell_type": "code",
   "execution_count": 66,
   "id": "c88daa20",
   "metadata": {},
   "outputs": [
    {
     "name": "stdout",
     "output_type": "stream",
     "text": [
      "Epoch 1/50\n",
      "153/153 [==============================] - 114s 685ms/step - loss: 5.4320 - val_loss: 5.0595\n",
      "Epoch 2/50\n",
      "153/153 [==============================] - 104s 683ms/step - loss: 4.8986 - val_loss: 4.6939\n",
      "Epoch 3/50\n",
      "153/153 [==============================] - 105s 687ms/step - loss: 4.6085 - val_loss: 4.4662\n",
      "Epoch 4/50\n",
      "153/153 [==============================] - 105s 688ms/step - loss: 4.3695 - val_loss: 4.2869\n",
      "Epoch 5/50\n",
      "153/153 [==============================] - 105s 689ms/step - loss: 4.1549 - val_loss: 4.1141\n",
      "Epoch 6/50\n",
      "153/153 [==============================] - 104s 677ms/step - loss: 3.9768 - val_loss: 3.9905\n",
      "Epoch 7/50\n",
      "153/153 [==============================] - 103s 676ms/step - loss: 3.8283 - val_loss: 3.8904\n",
      "Epoch 8/50\n",
      "153/153 [==============================] - 103s 675ms/step - loss: 3.6990 - val_loss: 3.8049\n",
      "Epoch 9/50\n",
      "153/153 [==============================] - 103s 672ms/step - loss: 3.5841 - val_loss: 3.7383\n",
      "Epoch 10/50\n",
      "153/153 [==============================] - 102s 669ms/step - loss: 3.4797 - val_loss: 3.6824\n",
      "Epoch 11/50\n",
      "153/153 [==============================] - 102s 670ms/step - loss: 3.3835 - val_loss: 3.6262\n",
      "Epoch 12/50\n",
      "153/153 [==============================] - 103s 672ms/step - loss: 3.2959 - val_loss: 3.5945\n",
      "Epoch 13/50\n",
      "153/153 [==============================] - 103s 672ms/step - loss: 3.2162 - val_loss: 3.5544\n",
      "Epoch 14/50\n",
      "153/153 [==============================] - 103s 671ms/step - loss: 3.1425 - val_loss: 3.5156\n",
      "Epoch 15/50\n",
      "153/153 [==============================] - 102s 669ms/step - loss: 3.0757 - val_loss: 3.4935\n",
      "Epoch 16/50\n",
      "153/153 [==============================] - 103s 671ms/step - loss: 3.0120 - val_loss: 3.4753\n",
      "Epoch 17/50\n",
      "153/153 [==============================] - 102s 670ms/step - loss: 2.9522 - val_loss: 3.4572\n",
      "Epoch 18/50\n",
      "153/153 [==============================] - 103s 674ms/step - loss: 2.8982 - val_loss: 3.4367\n",
      "Epoch 19/50\n",
      "153/153 [==============================] - 103s 672ms/step - loss: 2.8459 - val_loss: 3.4290\n",
      "Epoch 20/50\n",
      "153/153 [==============================] - 102s 664ms/step - loss: 2.7964 - val_loss: 3.4192\n",
      "Epoch 21/50\n",
      "153/153 [==============================] - 102s 667ms/step - loss: 2.7508 - val_loss: 3.4115\n",
      "Epoch 22/50\n",
      "153/153 [==============================] - 101s 663ms/step - loss: 2.7061 - val_loss: 3.4032\n",
      "Epoch 23/50\n",
      "153/153 [==============================] - 101s 663ms/step - loss: 2.6656 - val_loss: 3.3934\n",
      "Epoch 24/50\n",
      "153/153 [==============================] - 101s 663ms/step - loss: 2.6253 - val_loss: 3.3955\n",
      "Epoch 25/50\n",
      "153/153 [==============================] - 101s 662ms/step - loss: 2.5878 - val_loss: 3.3826\n",
      "Epoch 26/50\n",
      "153/153 [==============================] - 101s 663ms/step - loss: 2.5515 - val_loss: 3.3783\n",
      "Epoch 27/50\n",
      "153/153 [==============================] - 101s 663ms/step - loss: 2.5182 - val_loss: 3.3755\n",
      "Epoch 28/50\n",
      "153/153 [==============================] - 101s 659ms/step - loss: 2.4841 - val_loss: 3.3790\n",
      "Epoch 29/50\n",
      "153/153 [==============================] - 101s 661ms/step - loss: 2.4518 - val_loss: 3.3768\n",
      "Epoch 00029: early stopping\n"
     ]
    }
   ],
   "source": [
    "# 설계한 model을 훈련/ 최종적으로, model이 최적점에서 훈련을 종료하는 역할을 수행.\n",
    "\n",
    "model.compile(optimizer='rmsprop', loss='sparse_categorical_crossentropy')\n",
    "es = EarlyStopping(monitor='val_loss', mode='min', patience = 2, verbose=1)\n",
    "\n",
    "# early stopping 기능을 이용하여, \n",
    "# validation loss가 증가하는 현상이 2회 관측될 시, 학습을 종료\n",
    "\n",
    "history = model.fit(x = [encoder_input_train, decoder_input_train], y = decoder_target_train, \\\n",
    "          validation_data = ([encoder_input_test, decoder_input_test], decoder_target_test),\n",
    "          batch_size = 512, callbacks=[es], epochs = 50)"
   ]
  },
  {
   "cell_type": "code",
   "execution_count": 67,
   "id": "32c99e9a",
   "metadata": {},
   "outputs": [
    {
     "data": {
      "image/png": "[encoded data removed]",
      "text/plain": [
       "<Figure size 432x288 with 1 Axes>"
      ]
     },
     "metadata": {
      "needs_background": "light"
     },
     "output_type": "display_data"
    }
   ],
   "source": [
    "# 훈련 데이터와 테스트 데이터의 loss를 시각화\n",
    "\n",
    "plt.plot(history.history['loss'], label='train')\n",
    "plt.plot(history.history['val_loss'], label='test')\n",
    "plt.legend()\n",
    "plt.show()"
   ]
  },
  {
   "cell_type": "markdown",
   "id": "5d9cf39f",
   "metadata": {},
   "source": [
    "* model의 loss와 validation loss 둘 사이의 격차가 큼\n",
    "* 훈련 데이터와 테스트 데이터 loss의 격차를 보면, 훈련 데이터가 overfitting이 되었다고 판단할 수 있음"
   ]
  },
  {
   "cell_type": "markdown",
   "id": "6ff79852",
   "metadata": {},
   "source": [
    "## 7. 모델 테스트하기"
   ]
  },
  {
   "cell_type": "code",
   "execution_count": 68,
   "id": "952008cd",
   "metadata": {},
   "outputs": [],
   "source": [
    "# 정수 인덱스 행렬로 존재하는 텍스트 데이터를 실제 데이터로 복원할때 사용할 3개의 사전을 준비\n",
    "\n",
    "src_index_to_word = src_tokenizer.index_word # 원문 단어 집합에서 정수 -> 단어를 얻음\n",
    "tar_word_to_index = tar_tokenizer.word_index # 요약 단어 집합에서 단어 -> 정수를 얻음\n",
    "tar_index_to_word = tar_tokenizer.index_word # 요약 단어 집합에서 정수 -> 단어를 얻음"
   ]
  },
  {
   "cell_type": "code",
   "execution_count": 69,
   "id": "ed46f666",
   "metadata": {},
   "outputs": [],
   "source": [
    "# 인코더 설계\n",
    "encoder_model = Model(inputs=encoder_inputs, outputs=[encoder_outputs, state_h, state_c])\n",
    "\n",
    "# 이전 시점의 상태들을 저장하는 텐서\n",
    "decoder_state_input_h = Input(shape=(hidden_size,))\n",
    "decoder_state_input_c = Input(shape=(hidden_size,))\n",
    "\n",
    "dec_emb2 = dec_emb_layer(decoder_inputs)\n",
    "\n",
    "# 문장의 다음 단어를 예측하기 위해서 초기 상태(initial_state)를 이전 시점의 상태로 사용. 이는 뒤의 함수 decode_sequence()에 구현\n",
    "# 훈련 과정에서와 달리 LSTM의 리턴하는 은닉 상태와 셀 상태인 state_h와 state_c를 버리지 않음.\n",
    "decoder_outputs2, state_h2, state_c2 = decoder_lstm(dec_emb2, initial_state=[decoder_state_input_h, decoder_state_input_c])"
   ]
  },
  {
   "cell_type": "markdown",
   "id": "065d96c4",
   "metadata": {},
   "source": [
    "* 훈련과 달리 인퍼런스 단계에서는 만들어야 할 문장의 길이만큼 디코더가 반복적으로 동작해야함\n",
    "* 따라서 인퍼런스를 위한 모델을 별도로 설계\n",
    "* 이때는, 인코더 모델과 디코더 모델을 분리하여 설계해야함"
   ]
  },
  {
   "cell_type": "code",
   "execution_count": 70,
   "id": "6b2b1246",
   "metadata": {},
   "outputs": [],
   "source": [
    "# 어텐션 함수를 사용하는 출력층을 설계\n",
    "decoder_hidden_state_input = Input(shape=(text_max_len, hidden_size))\n",
    "attn_out_inf = attn_layer([decoder_outputs2, decoder_hidden_state_input])\n",
    "decoder_inf_concat = Concatenate(axis=-1, name='concat')([decoder_outputs2, attn_out_inf])\n",
    "\n",
    "# 디코더의 출력층\n",
    "decoder_outputs2 = decoder_softmax_layer(decoder_inf_concat) \n",
    "\n",
    "# 최종 디코더 모델\n",
    "decoder_model = Model(\n",
    "    [decoder_inputs] + [decoder_hidden_state_input,decoder_state_input_h, decoder_state_input_c],\n",
    "    [decoder_outputs2] + [state_h2, state_c2])\n"
   ]
  },
  {
   "cell_type": "code",
   "execution_count": 71,
   "id": "4e10853e",
   "metadata": {},
   "outputs": [],
   "source": [
    "# 인퍼런스 단계에서 단어 시퀀스를 완성하는 함수\n",
    "def decode_sequence(input_seq):\n",
    "    # 입력으로부터 인코더의 상태를 얻음\n",
    "    e_out, e_h, e_c = encoder_model.predict(input_seq)\n",
    "\n",
    "    # <SOS>에 해당하는 토큰 생성\n",
    "    target_seq = np.zeros((1,1))\n",
    "    target_seq[0, 0] = tar_word_to_index['sostoken']\n",
    "\n",
    "    stop_condition = False\n",
    "    decoded_sentence = ''\n",
    "    while not stop_condition: # stop_condition이 True가 될 때까지 루프 반복\n",
    "\n",
    "        output_tokens, h, c = decoder_model.predict([target_seq] + [e_out, e_h, e_c])\n",
    "        sampled_token_index = np.argmax(output_tokens[0, -1, :])\n",
    "        sampled_token = tar_index_to_word[sampled_token_index]\n",
    "\n",
    "        if (sampled_token!='eostoken'):\n",
    "            decoded_sentence += ' '+sampled_token\n",
    "\n",
    "        #  <eos>에 도달하거나 최대 길이를 넘으면 중단.\n",
    "        if (sampled_token == 'eostoken' or len(decoded_sentence.split()) >= (headlines_max_len-1)):\n",
    "            stop_condition = True\n",
    "\n",
    "        # 길이가 1인 타겟 시퀀스를 업데이트\n",
    "        target_seq = np.zeros((1,1))\n",
    "        target_seq[0, 0] = sampled_token_index\n",
    "\n",
    "        # 상태를 업데이트 합니다.\n",
    "        e_h, e_c = h, c\n",
    "\n",
    "    return decoded_sentence"
   ]
  },
  {
   "cell_type": "code",
   "execution_count": 72,
   "id": "6ad24d48",
   "metadata": {},
   "outputs": [],
   "source": [
    "def seq2text(input_seq):\n",
    "    temp=''\n",
    "    for i in input_seq:\n",
    "        if(i!=0):\n",
    "            temp = temp + src_index_to_word[i]+' '\n",
    "    return temp\n",
    "\n",
    "# 요약문의 정수 시퀀스를 텍스트 시퀀스로 변환하는 함수\n",
    "def seq2summary(input_seq):\n",
    "    temp=''\n",
    "    for i in input_seq:\n",
    "        if((i!=0 and i!=tar_word_to_index['sostoken']) and i!=tar_word_to_index['eostoken']):\n",
    "            temp = temp + tar_index_to_word[i] + ' '\n",
    "    return temp"
   ]
  },
  {
   "cell_type": "markdown",
   "id": "e2323b3e",
   "metadata": {},
   "source": [
    "* text의 경우, 패딩을 위해 사용한 숫자 0을 제외\n",
    "* headlines의 경우, 숫자 0, 시작 토큰, 종료 토큰의 인덱스를 출력에서 제외"
   ]
  },
  {
   "cell_type": "code",
   "execution_count": 73,
   "id": "33802659",
   "metadata": {},
   "outputs": [
    {
     "name": "stdout",
     "output_type": "stream",
     "text": [
      "원문 : hewlett packard enterprise ceo meg whitman stepped chairman board member hp chip ceo levi strauss take chairman hp hewlett packard split two companies hewlett packard enterprise hp whitman exit comes amid reports shortlisted uber ceo post \n",
      "실제 요약 : hp ceo steps down from hp board \n",
      "예측 요약 :  intel ceo paul quits after years\n",
      "\n",
      "\n",
      "원문 : north korea tuesday called us nuclear criminal said dismantle arsenal nations step towards nuclear weapons free world accused us wild ambition dominate world nuclear upper hand comes us president donald trump called country nuclear arsenal \n",
      "실제 요약 : north korea calls us nuclear criminal \n",
      "예측 요약 :  korea korea to hold its third ever north korea\n",
      "\n",
      "\n",
      "원문 : least students two died fire religious school kuala lumpur today broke bedrooms students could escape due window fires unregistered private religious schools since one considered one malaysia worst fire disasters years \n",
      "실제 요약 : students killed in fire at malaysian school \n",
      "예측 요약 :  kids die after eating children at school in bihar\n",
      "\n",
      "\n",
      "원문 : security forces monday recovered explosives including kg nine sticks garage thane near mumbai police arrested three men planting explosives allegedly frame garage owner order take revenge long standing dispute police also denied reports case terror activity \n",
      "실제 요약 : explosives found in garage near mumbai arrested \n",
      "예측 요약 :  kg heroin worth lakh in delhi\n",
      "\n",
      "\n",
      "원문 : swiss researchers demonstrated imaging technique called scanning uses probes rather fluorescent detect around tissue technique able differentiate healthy human tissue cancerous tissue kill cancer cells tissue samples also produced images mouse heart \n",
      "실제 요약 : scientists use electric to detect cancer \n",
      "예측 요약 :  iit kharagpur scientists develop cancer paper\n",
      "\n",
      "\n",
      "원문 : mumbai police wednesday received complaint loud music played reliance chief mukesh ambani residence antilia complaint posted user tagging mumbai police twitter handle read music ambani house road area police reached site found loud music played \n",
      "실제 요약 : police get complaint about loud music from ambani \n",
      "예측 요약 :  mumbai police police officer booked for fake tweet on kbc\n",
      "\n",
      "\n",
      "원문 : india gave away lead manage draw pakistan opening match men hockey event commonwealth games australia saturday following goals dilpreet singh harmanpreet singh india conceded final play match th penalty corner pakistan \n",
      "실제 요약 : india throw away lead vs pak to draw at cwg \n",
      "예측 요약 :  india defeat pakistan to win their champions trophy final\n",
      "\n",
      "\n",
      "원문 : reacting novak djokovic win rafael nadal claim record seventh australian open title user tweeted users reacted tweets like witnessing one time great finals performances sports fans take bow sheer throughout tournament \n",
      "실제 요약 : tweets user on djokovic aus open win \n",
      "예측 요약 :  nadal reacts to federer winning player in fifa world cup\n",
      "\n",
      "\n",
      "원문 : chopra first indian pose nude playboy magazine shared picture magazine founder hugh hefner condoling death called hefner true visionary chose set self proclaimed guardians society earlier said nude shoot vulgar \n",
      "실제 요약 : st indian nude model for playboy condoles hefner death \n",
      "예측 요약 :  priyanka chopra shares picture of her photoshoot\n",
      "\n",
      "\n",
      "원문 : four people accused killing year old girl delhi took three hours chop body pieces pack bags police said brought girl jharkhand promising high salary job forced work domestic help killed demanded lakh salary withheld \n",
      "실제 요약 : accused took hrs to cut teen body into pieces in delhi \n",
      "예측 요약 :  year old girl killed in delhi after rape attempt\n",
      "\n",
      "\n"
     ]
    }
   ],
   "source": [
    "for i in range(10):\n",
    "    print(\"원문 :\", seq2text(encoder_input_test[i]))\n",
    "    print(\"실제 요약 :\", seq2summary(decoder_input_test[i]))\n",
    "    print(\"예측 요약 :\", decode_sequence(encoder_input_test[i].reshape(1, text_max_len)))\n",
    "    print(\"\\n\")"
   ]
  },
  {
   "cell_type": "markdown",
   "id": "87e8ef1c",
   "metadata": {},
   "source": [
    "* 10개의 샘플을 출력하여, 실제 headlines와 예측된 headlines를 비교\n",
    "    + 일부 샘플에서 실제 headlines와 비슷한 headlines를 예측\n",
    "    + 실제 headlines에서는 사용하지 않은 단어를 이용하여 예측한 headlines도 존재\n",
    "    + 일부 샘플에 대해서 좋지 않은 예측을 보이는 샘플도 존재\n",
    "\n",
    "* 따라서, 모델의 성능 개선이 필요"
   ]
  },
  {
   "cell_type": "markdown",
   "id": "d2be3a82",
   "metadata": {},
   "source": [
    "## 8. 추출적 요약"
   ]
  },
  {
   "cell_type": "code",
   "execution_count": 74,
   "id": "977f26b5",
   "metadata": {},
   "outputs": [],
   "source": [
    "import requests\n",
    "from summa.summarizer import summarize"
   ]
  },
  {
   "cell_type": "code",
   "execution_count": 75,
   "id": "f7d2a2da",
   "metadata": {},
   "outputs": [
    {
     "data": {
      "text/html": [
       "<div>\n",
       "<style scoped>\n",
       "    .dataframe tbody tr th:only-of-type {\n",
       "        vertical-align: middle;\n",
       "    }\n",
       "\n",
       "    .dataframe tbody tr th {\n",
       "        vertical-align: top;\n",
       "    }\n",
       "\n",
       "    .dataframe thead th {\n",
       "        text-align: right;\n",
       "    }\n",
       "</style>\n",
       "<table border=\"1\" class=\"dataframe\">\n",
       "  <thead>\n",
       "    <tr style=\"text-align: right;\">\n",
       "      <th></th>\n",
       "      <th>headlines</th>\n",
       "      <th>text</th>\n",
       "    </tr>\n",
       "  </thead>\n",
       "  <tbody>\n",
       "    <tr>\n",
       "      <th>44528</th>\n",
       "      <td>Deepika features in VarietyÃ¢ÂÂs Int'l Women...</td>\n",
       "      <td>Deepika Padukone is the only Indian actress to...</td>\n",
       "    </tr>\n",
       "    <tr>\n",
       "      <th>85722</th>\n",
       "      <td>Will take Ã¢ÂÂ¹5k from SRK for Jab Harry Met ...</td>\n",
       "      <td>Actor Ranbir Kapoor joked that he'll go to act...</td>\n",
       "    </tr>\n",
       "    <tr>\n",
       "      <th>93837</th>\n",
       "      <td>Parrikar inducts two former Congressmen into G...</td>\n",
       "      <td>Goa Chief Minister Manohar Parrikar on Wednesd...</td>\n",
       "    </tr>\n",
       "    <tr>\n",
       "      <th>41111</th>\n",
       "      <td>CBSE uses encrypted question paper to tackle p...</td>\n",
       "      <td>In an attempt to tackle paper leaks, the CBSE ...</td>\n",
       "    </tr>\n",
       "    <tr>\n",
       "      <th>4730</th>\n",
       "      <td>18 bikes set on fire in Thane in second such i...</td>\n",
       "      <td>As many as 18 motorcycles were set ablaze at P...</td>\n",
       "    </tr>\n",
       "    <tr>\n",
       "      <th>3475</th>\n",
       "      <td>NGT imposes Ã¢ÂÂ¹100 cr fine on Meghalaya ove...</td>\n",
       "      <td>The National Green Tribunal (NGT) on Friday im...</td>\n",
       "    </tr>\n",
       "    <tr>\n",
       "      <th>60087</th>\n",
       "      <td>Swaraj tweets ICJ poll result with Vande Matar...</td>\n",
       "      <td>External Affairs Minister Sushma Swaraj, annou...</td>\n",
       "    </tr>\n",
       "    <tr>\n",
       "      <th>67785</th>\n",
       "      <td>No plans to scrap GE locomotive plant: Piyush ...</td>\n",
       "      <td>Railway Minister Piyush Goyal has said the wor...</td>\n",
       "    </tr>\n",
       "    <tr>\n",
       "      <th>78551</th>\n",
       "      <td>Argument between pilot, flight attendant delay...</td>\n",
       "      <td>An argument between a pilot and a flight atten...</td>\n",
       "    </tr>\n",
       "    <tr>\n",
       "      <th>19754</th>\n",
       "      <td>248 party workers died of shock on Karunanidhi...</td>\n",
       "      <td>The DMK on Tuesday said that as many as 248 pa...</td>\n",
       "    </tr>\n",
       "  </tbody>\n",
       "</table>\n",
       "</div>"
      ],
      "text/plain": [
       "                                               headlines  \\\n",
       "44528  Deepika features in VarietyÃ¢ÂÂs Int'l Women...   \n",
       "85722  Will take Ã¢ÂÂ¹5k from SRK for Jab Harry Met ...   \n",
       "93837  Parrikar inducts two former Congressmen into G...   \n",
       "41111  CBSE uses encrypted question paper to tackle p...   \n",
       "4730   18 bikes set on fire in Thane in second such i...   \n",
       "3475   NGT imposes Ã¢ÂÂ¹100 cr fine on Meghalaya ove...   \n",
       "60087  Swaraj tweets ICJ poll result with Vande Matar...   \n",
       "67785  No plans to scrap GE locomotive plant: Piyush ...   \n",
       "78551  Argument between pilot, flight attendant delay...   \n",
       "19754  248 party workers died of shock on Karunanidhi...   \n",
       "\n",
       "                                                    text  \n",
       "44528  Deepika Padukone is the only Indian actress to...  \n",
       "85722  Actor Ranbir Kapoor joked that he'll go to act...  \n",
       "93837  Goa Chief Minister Manohar Parrikar on Wednesd...  \n",
       "41111  In an attempt to tackle paper leaks, the CBSE ...  \n",
       "4730   As many as 18 motorcycles were set ablaze at P...  \n",
       "3475   The National Green Tribunal (NGT) on Friday im...  \n",
       "60087  External Affairs Minister Sushma Swaraj, annou...  \n",
       "67785  Railway Minister Piyush Goyal has said the wor...  \n",
       "78551  An argument between a pilot and a flight atten...  \n",
       "19754  The DMK on Tuesday said that as many as 248 pa...  "
      ]
     },
     "execution_count": 75,
     "metadata": {},
     "output_type": "execute_result"
    }
   ],
   "source": [
    "text= pd.read_csv('news_summary_more.csv', encoding='iso-8859-1')\n",
    "\n",
    "text.sample(10)"
   ]
  },
  {
   "cell_type": "code",
   "execution_count": 76,
   "id": "f98386c5",
   "metadata": {},
   "outputs": [
    {
     "name": "stdout",
     "output_type": "stream",
     "text": [
      "원문 : Saurav Kant, an alumnus of upGrad and IIIT-B's PG Program in Machine learning and Artificial Intelligence, was a Sr Systems Engineer at Infosys with almost 5 years of work experience. The program and upGrad's 360-degree career support helped him transition to a Data Scientist at Tech Mahindra with 90% salary hike. upGrad's Online Power Learning has powered 3 lakh+ careers.\n",
      "실제 요약 : upGrad learner switches to career in ML & Al with 90% salary hike\n",
      "추출 요약 : upGrad's Online Power Learning has powered 3 lakh+ careers.\n",
      "\n",
      "\n",
      "원문 : Two minor cousins in Uttar Pradesh's Gorakhpur were allegedly repeatedly burnt with tongs and forced to eat human excreta by their family for being friends with two boys from the same school. The cousins revealed their ordeal to the police and Child Welfare Committee after being brought back to Gorakhpur from Nepal, where they had fled to escape the torture.\n",
      "실제 요약 : UP cousins fed human excreta for friendship with boys\n",
      "추출 요약 : \n",
      "\n",
      "\n",
      "원문 : Claiming there is a dearth of ideas among opposition parties, Prime Minister Narendra Modi on Wednesday said, \"The opposition talks only about Modi the whole day, I suspect they even dream about me.\" PM Modi, who was addressing the New India Youth Conclave inÃ¢ÂÂ Surat, added that the opposition parties have only one agenda which is \"Modi\". \n",
      "실제 요약 : I think the opposition even dreams about me: PM Modi\n",
      "추출 요약 : \n",
      "\n",
      "\n",
      "원문 : Italian third division football side Lucchese's head coach Giancarlo Favarin has been banned for five months for headbutting Alessandria's assistant coach Gaetano Mancino during a brawl following the teams' 2-2 draw on Sunday. Mancino was caught off-balance and knocked to the ground after the headbutt. Earlier in the match, Favarin had told his own player to break an opponent's legs.\n",
      "실제 요약 : Italian coach knocks rival down with headbutt, banned for 5 months\n",
      "추출 요약 : Italian third division football side Lucchese's head coach Giancarlo Favarin has been banned for five months for headbutting Alessandria's assistant coach Gaetano Mancino during a brawl following the teams' 2-2 draw on Sunday.\n",
      "\n",
      "\n",
      "원문 : Ex-ICICI Bank CEO Chanda Kochhar said she's \"utterly disappointed, hurt and shocked\" by the bank's decision to terminate her. Kochhar said she served ICICI for 34 years with utmost honesty and integrity and that ultimately truth will prevail. Adding that she hasn't been given a copy of the independent probe report, Kochhar said none of ICICI's credit decisions are unilateral\n",
      "실제 요약 : Shocked, hurt by ICICI's decision, truth will prevail: Kochhar\n",
      "추출 요약 : Adding that she hasn't been given a copy of the independent probe report, Kochhar said none of ICICI's credit decisions are unilateral\n",
      "\n",
      "\n"
     ]
    }
   ],
   "source": [
    "for i in range(0, 50, 10):\n",
    "    print(\"원문 :\", text['text'][i])\n",
    "    print(\"실제 요약 :\", text['headlines'][i])\n",
    "    print(\"추출 요약 :\", summarize(text[\"text\"][i], ratio=0.4))\n",
    "    print(\"\\n\")"
   ]
  },
  {
   "cell_type": "markdown",
   "id": "935e9516",
   "metadata": {},
   "source": [
    "## 회고\n",
    "\n",
    "이번 과제는 각 코드가 어떤 역할을 하는지 파악하는 것에 중점을 두었습니다.\n",
    "NLP에 대해 아직 다 이해하지 못해서 순서대로 이번 과제를 위해 있어야 하는 코드에 대해서만 인지하고 제출하겠습니다.\n"
   ]
  }
 ],
 "metadata": {
  "kernelspec": {
   "display_name": "Python 3 (ipykernel)",
   "language": "python",
   "name": "python3"
  },
  "language_info": {
   "codemirror_mode": {
    "name": "ipython",
    "version": 3
   },
   "file_extension": ".py",
   "mimetype": "text/x-python",
   "name": "python",
   "nbconvert_exporter": "python",
   "pygments_lexer": "ipython3",
   "version": "3.9.7"
  }
 },
 "nbformat": 4,
 "nbformat_minor": 5
}
